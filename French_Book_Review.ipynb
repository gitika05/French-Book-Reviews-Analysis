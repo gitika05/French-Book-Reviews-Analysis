{
  "cells": [
    {
      "cell_type": "code",
      "execution_count": 1,
      "metadata": {
        "id": "xfCSTjzXdKa0",
        "colab": {
          "base_uri": "https://localhost:8080/"
        },
        "outputId": "22ce2a1c-1e62-42df-f755-689838bd88e2"
      },
      "outputs": [
        {
          "output_type": "stream",
          "name": "stdout",
          "text": [
            "Looking in indexes: https://pypi.org/simple, https://us-python.pkg.dev/colab-wheels/public/simple/\n",
            "Requirement already satisfied: transformers in /usr/local/lib/python3.8/dist-packages (4.25.1)\n",
            "Requirement already satisfied: datasets in /usr/local/lib/python3.8/dist-packages (2.7.1)\n",
            "Requirement already satisfied: requests in /usr/local/lib/python3.8/dist-packages (from transformers) (2.23.0)\n",
            "Requirement already satisfied: filelock in /usr/local/lib/python3.8/dist-packages (from transformers) (3.8.2)\n",
            "Requirement already satisfied: tqdm>=4.27 in /usr/local/lib/python3.8/dist-packages (from transformers) (4.64.1)\n",
            "Requirement already satisfied: tokenizers!=0.11.3,<0.14,>=0.11.1 in /usr/local/lib/python3.8/dist-packages (from transformers) (0.13.2)\n",
            "Requirement already satisfied: packaging>=20.0 in /usr/local/lib/python3.8/dist-packages (from transformers) (21.3)\n",
            "Requirement already satisfied: numpy>=1.17 in /usr/local/lib/python3.8/dist-packages (from transformers) (1.21.6)\n",
            "Requirement already satisfied: regex!=2019.12.17 in /usr/local/lib/python3.8/dist-packages (from transformers) (2022.6.2)\n",
            "Requirement already satisfied: huggingface-hub<1.0,>=0.10.0 in /usr/local/lib/python3.8/dist-packages (from transformers) (0.11.1)\n",
            "Requirement already satisfied: pyyaml>=5.1 in /usr/local/lib/python3.8/dist-packages (from transformers) (6.0)\n",
            "Requirement already satisfied: typing-extensions>=3.7.4.3 in /usr/local/lib/python3.8/dist-packages (from huggingface-hub<1.0,>=0.10.0->transformers) (4.4.0)\n",
            "Requirement already satisfied: pyparsing!=3.0.5,>=2.0.2 in /usr/local/lib/python3.8/dist-packages (from packaging>=20.0->transformers) (3.0.9)\n",
            "Requirement already satisfied: fsspec[http]>=2021.11.1 in /usr/local/lib/python3.8/dist-packages (from datasets) (2022.11.0)\n",
            "Requirement already satisfied: xxhash in /usr/local/lib/python3.8/dist-packages (from datasets) (3.1.0)\n",
            "Requirement already satisfied: multiprocess in /usr/local/lib/python3.8/dist-packages (from datasets) (0.70.14)\n",
            "Requirement already satisfied: pyarrow>=6.0.0 in /usr/local/lib/python3.8/dist-packages (from datasets) (9.0.0)\n",
            "Requirement already satisfied: aiohttp in /usr/local/lib/python3.8/dist-packages (from datasets) (3.8.3)\n",
            "Requirement already satisfied: pandas in /usr/local/lib/python3.8/dist-packages (from datasets) (1.3.5)\n",
            "Requirement already satisfied: dill<0.3.7 in /usr/local/lib/python3.8/dist-packages (from datasets) (0.3.6)\n",
            "Requirement already satisfied: responses<0.19 in /usr/local/lib/python3.8/dist-packages (from datasets) (0.18.0)\n",
            "Requirement already satisfied: attrs>=17.3.0 in /usr/local/lib/python3.8/dist-packages (from aiohttp->datasets) (22.1.0)\n",
            "Requirement already satisfied: frozenlist>=1.1.1 in /usr/local/lib/python3.8/dist-packages (from aiohttp->datasets) (1.3.3)\n",
            "Requirement already satisfied: yarl<2.0,>=1.0 in /usr/local/lib/python3.8/dist-packages (from aiohttp->datasets) (1.8.2)\n",
            "Requirement already satisfied: aiosignal>=1.1.2 in /usr/local/lib/python3.8/dist-packages (from aiohttp->datasets) (1.3.1)\n",
            "Requirement already satisfied: async-timeout<5.0,>=4.0.0a3 in /usr/local/lib/python3.8/dist-packages (from aiohttp->datasets) (4.0.2)\n",
            "Requirement already satisfied: multidict<7.0,>=4.5 in /usr/local/lib/python3.8/dist-packages (from aiohttp->datasets) (6.0.3)\n",
            "Requirement already satisfied: charset-normalizer<3.0,>=2.0 in /usr/local/lib/python3.8/dist-packages (from aiohttp->datasets) (2.1.1)\n",
            "Requirement already satisfied: urllib3!=1.25.0,!=1.25.1,<1.26,>=1.21.1 in /usr/local/lib/python3.8/dist-packages (from requests->transformers) (1.25.11)\n",
            "Requirement already satisfied: certifi>=2017.4.17 in /usr/local/lib/python3.8/dist-packages (from requests->transformers) (2022.12.7)\n",
            "Requirement already satisfied: chardet<4,>=3.0.2 in /usr/local/lib/python3.8/dist-packages (from requests->transformers) (3.0.4)\n",
            "Requirement already satisfied: idna<3,>=2.5 in /usr/local/lib/python3.8/dist-packages (from requests->transformers) (2.10)\n",
            "Requirement already satisfied: python-dateutil>=2.7.3 in /usr/local/lib/python3.8/dist-packages (from pandas->datasets) (2.8.2)\n",
            "Requirement already satisfied: pytz>=2017.3 in /usr/local/lib/python3.8/dist-packages (from pandas->datasets) (2022.6)\n",
            "Requirement already satisfied: six>=1.5 in /usr/local/lib/python3.8/dist-packages (from python-dateutil>=2.7.3->pandas->datasets) (1.15.0)\n"
          ]
        }
      ],
      "source": [
        "# Install transformers and datasets:\n",
        "!pip install transformers datasets"
      ]
    },
    {
      "cell_type": "code",
      "execution_count": 2,
      "metadata": {
        "id": "I71wx3E_cZfK"
      },
      "outputs": [],
      "source": [
        "# Call libraries:\n",
        "# Hugging Face related:\n",
        "\n",
        "from transformers import pipeline\n",
        "from datasets import load_dataset\n",
        "from datasets import Dataset\n",
        "\n",
        "# General\n",
        "import numpy as np\n",
        "import pandas as pd\n",
        "import re\n",
        "import seaborn as sns\n",
        "import matplotlib.pyplot as plt\n",
        "\n",
        "#Text Cleaning Libraries\n",
        "from nltk.corpus import stopwords\n",
        "from nltk.stem import WordNetLemmatizer\n",
        "import nltk\n",
        "from nltk import ngrams\n",
        "from itertools import chain\n",
        "from wordcloud import WordCloud\n",
        "from string import punctuation"
      ]
    },
    {
      "cell_type": "code",
      "execution_count": 3,
      "metadata": {
        "colab": {
          "base_uri": "https://localhost:8080/"
        },
        "id": "1_zRN76YcuLI",
        "outputId": "8f9b215d-8048-4cc5-de6f-d46755195d78"
      },
      "outputs": [
        {
          "output_type": "stream",
          "name": "stdout",
          "text": [
            "Drive already mounted at /gdrive; to attempt to forcibly remount, call drive.mount(\"/gdrive\", force_remount=True).\n"
          ]
        }
      ],
      "source": [
        "# Mounting GDrive\n",
        "from google.colab import drive\n",
        "drive.mount('/gdrive')"
      ]
    },
    {
      "cell_type": "code",
      "execution_count": 4,
      "metadata": {
        "id": "yshuYqygcyU_"
      },
      "outputs": [],
      "source": [
        "# Path to folder in gdrive where data files are: \n",
        "pathToFolder = \"/gdrive/MyDrive/FA Project_French Book Review/\""
      ]
    },
    {
      "cell_type": "code",
      "execution_count": 5,
      "metadata": {
        "id": "SBNb2Ws0c3z0"
      },
      "outputs": [],
      "source": [
        "#  Read dataset in pandas:\n",
        "df = pd.read_csv(pathToFolder+\"french_books_reviews.csv\")"
      ]
    },
    {
      "cell_type": "code",
      "execution_count": 6,
      "metadata": {
        "colab": {
          "base_uri": "https://localhost:8080/",
          "height": 206
        },
        "id": "tg-hUKzsdBk1",
        "outputId": "17b6f594-11d1-4520-9b64-e3ad65f175c2"
      },
      "outputs": [
        {
          "output_type": "execute_result",
          "data": {
            "text/plain": [
              "   Unnamed: 0                          book_title                 author  \\\n",
              "0           0    Le Démon de la Colline aux Loups  Dimitri Rouchon-Borie   \n",
              "1           1                              Simple      Marie-Aude Murail   \n",
              "2           2  La plus secrète mémoire des hommes   Mohamed Mbougar Sarr   \n",
              "3           3                            Trancher      Amélie Cordonnier   \n",
              "4           4            La guerre d'Alan, tome 2       Emmanuel Guibert   \n",
              "\n",
              "                                       reader_review  rating  label  \n",
              "0  Ce n'est pas le premier roman à aborder les th...     5.0      1  \n",
              "1  Simple, alias Barnabé, est un jeune homme de 2...     4.0      1  \n",
              "2  Pour écrire La plus secrète mémoire des hommes...     4.0      1  \n",
              "3  « La violence d'Aurélien est revenue. Par la f...     3.5      0  \n",
              "4  Dans ce second album de La Guerre d’Alan, Emma...     5.0      1  "
            ],
            "text/html": [
              "\n",
              "  <div id=\"df-4831d046-4e33-4948-8e0c-ffef65cb4aa6\">\n",
              "    <div class=\"colab-df-container\">\n",
              "      <div>\n",
              "<style scoped>\n",
              "    .dataframe tbody tr th:only-of-type {\n",
              "        vertical-align: middle;\n",
              "    }\n",
              "\n",
              "    .dataframe tbody tr th {\n",
              "        vertical-align: top;\n",
              "    }\n",
              "\n",
              "    .dataframe thead th {\n",
              "        text-align: right;\n",
              "    }\n",
              "</style>\n",
              "<table border=\"1\" class=\"dataframe\">\n",
              "  <thead>\n",
              "    <tr style=\"text-align: right;\">\n",
              "      <th></th>\n",
              "      <th>Unnamed: 0</th>\n",
              "      <th>book_title</th>\n",
              "      <th>author</th>\n",
              "      <th>reader_review</th>\n",
              "      <th>rating</th>\n",
              "      <th>label</th>\n",
              "    </tr>\n",
              "  </thead>\n",
              "  <tbody>\n",
              "    <tr>\n",
              "      <th>0</th>\n",
              "      <td>0</td>\n",
              "      <td>Le Démon de la Colline aux Loups</td>\n",
              "      <td>Dimitri Rouchon-Borie</td>\n",
              "      <td>Ce n'est pas le premier roman à aborder les th...</td>\n",
              "      <td>5.0</td>\n",
              "      <td>1</td>\n",
              "    </tr>\n",
              "    <tr>\n",
              "      <th>1</th>\n",
              "      <td>1</td>\n",
              "      <td>Simple</td>\n",
              "      <td>Marie-Aude Murail</td>\n",
              "      <td>Simple, alias Barnabé, est un jeune homme de 2...</td>\n",
              "      <td>4.0</td>\n",
              "      <td>1</td>\n",
              "    </tr>\n",
              "    <tr>\n",
              "      <th>2</th>\n",
              "      <td>2</td>\n",
              "      <td>La plus secrète mémoire des hommes</td>\n",
              "      <td>Mohamed Mbougar Sarr</td>\n",
              "      <td>Pour écrire La plus secrète mémoire des hommes...</td>\n",
              "      <td>4.0</td>\n",
              "      <td>1</td>\n",
              "    </tr>\n",
              "    <tr>\n",
              "      <th>3</th>\n",
              "      <td>3</td>\n",
              "      <td>Trancher</td>\n",
              "      <td>Amélie Cordonnier</td>\n",
              "      <td>« La violence d'Aurélien est revenue. Par la f...</td>\n",
              "      <td>3.5</td>\n",
              "      <td>0</td>\n",
              "    </tr>\n",
              "    <tr>\n",
              "      <th>4</th>\n",
              "      <td>4</td>\n",
              "      <td>La guerre d'Alan, tome 2</td>\n",
              "      <td>Emmanuel Guibert</td>\n",
              "      <td>Dans ce second album de La Guerre d’Alan, Emma...</td>\n",
              "      <td>5.0</td>\n",
              "      <td>1</td>\n",
              "    </tr>\n",
              "  </tbody>\n",
              "</table>\n",
              "</div>\n",
              "      <button class=\"colab-df-convert\" onclick=\"convertToInteractive('df-4831d046-4e33-4948-8e0c-ffef65cb4aa6')\"\n",
              "              title=\"Convert this dataframe to an interactive table.\"\n",
              "              style=\"display:none;\">\n",
              "        \n",
              "  <svg xmlns=\"http://www.w3.org/2000/svg\" height=\"24px\"viewBox=\"0 0 24 24\"\n",
              "       width=\"24px\">\n",
              "    <path d=\"M0 0h24v24H0V0z\" fill=\"none\"/>\n",
              "    <path d=\"M18.56 5.44l.94 2.06.94-2.06 2.06-.94-2.06-.94-.94-2.06-.94 2.06-2.06.94zm-11 1L8.5 8.5l.94-2.06 2.06-.94-2.06-.94L8.5 2.5l-.94 2.06-2.06.94zm10 10l.94 2.06.94-2.06 2.06-.94-2.06-.94-.94-2.06-.94 2.06-2.06.94z\"/><path d=\"M17.41 7.96l-1.37-1.37c-.4-.4-.92-.59-1.43-.59-.52 0-1.04.2-1.43.59L10.3 9.45l-7.72 7.72c-.78.78-.78 2.05 0 2.83L4 21.41c.39.39.9.59 1.41.59.51 0 1.02-.2 1.41-.59l7.78-7.78 2.81-2.81c.8-.78.8-2.07 0-2.86zM5.41 20L4 18.59l7.72-7.72 1.47 1.35L5.41 20z\"/>\n",
              "  </svg>\n",
              "      </button>\n",
              "      \n",
              "  <style>\n",
              "    .colab-df-container {\n",
              "      display:flex;\n",
              "      flex-wrap:wrap;\n",
              "      gap: 12px;\n",
              "    }\n",
              "\n",
              "    .colab-df-convert {\n",
              "      background-color: #E8F0FE;\n",
              "      border: none;\n",
              "      border-radius: 50%;\n",
              "      cursor: pointer;\n",
              "      display: none;\n",
              "      fill: #1967D2;\n",
              "      height: 32px;\n",
              "      padding: 0 0 0 0;\n",
              "      width: 32px;\n",
              "    }\n",
              "\n",
              "    .colab-df-convert:hover {\n",
              "      background-color: #E2EBFA;\n",
              "      box-shadow: 0px 1px 2px rgba(60, 64, 67, 0.3), 0px 1px 3px 1px rgba(60, 64, 67, 0.15);\n",
              "      fill: #174EA6;\n",
              "    }\n",
              "\n",
              "    [theme=dark] .colab-df-convert {\n",
              "      background-color: #3B4455;\n",
              "      fill: #D2E3FC;\n",
              "    }\n",
              "\n",
              "    [theme=dark] .colab-df-convert:hover {\n",
              "      background-color: #434B5C;\n",
              "      box-shadow: 0px 1px 3px 1px rgba(0, 0, 0, 0.15);\n",
              "      filter: drop-shadow(0px 1px 2px rgba(0, 0, 0, 0.3));\n",
              "      fill: #FFFFFF;\n",
              "    }\n",
              "  </style>\n",
              "\n",
              "      <script>\n",
              "        const buttonEl =\n",
              "          document.querySelector('#df-4831d046-4e33-4948-8e0c-ffef65cb4aa6 button.colab-df-convert');\n",
              "        buttonEl.style.display =\n",
              "          google.colab.kernel.accessAllowed ? 'block' : 'none';\n",
              "\n",
              "        async function convertToInteractive(key) {\n",
              "          const element = document.querySelector('#df-4831d046-4e33-4948-8e0c-ffef65cb4aa6');\n",
              "          const dataTable =\n",
              "            await google.colab.kernel.invokeFunction('convertToInteractive',\n",
              "                                                     [key], {});\n",
              "          if (!dataTable) return;\n",
              "\n",
              "          const docLinkHtml = 'Like what you see? Visit the ' +\n",
              "            '<a target=\"_blank\" href=https://colab.research.google.com/notebooks/data_table.ipynb>data table notebook</a>'\n",
              "            + ' to learn more about interactive tables.';\n",
              "          element.innerHTML = '';\n",
              "          dataTable['output_type'] = 'display_data';\n",
              "          await google.colab.output.renderOutput(dataTable, element);\n",
              "          const docLink = document.createElement('div');\n",
              "          docLink.innerHTML = docLinkHtml;\n",
              "          element.appendChild(docLink);\n",
              "        }\n",
              "      </script>\n",
              "    </div>\n",
              "  </div>\n",
              "  "
            ]
          },
          "metadata": {},
          "execution_count": 6
        }
      ],
      "source": [
        "# Data Exploration\n",
        "df.head()"
      ]
    },
    {
      "cell_type": "code",
      "execution_count": 7,
      "metadata": {
        "colab": {
          "base_uri": "https://localhost:8080/"
        },
        "id": "hGS7RE_we6DK",
        "outputId": "ff1478c1-f843-4361-ba43-705553cd8e3c"
      },
      "outputs": [
        {
          "output_type": "execute_result",
          "data": {
            "text/plain": [
              "(9658, 6)"
            ]
          },
          "metadata": {},
          "execution_count": 7
        }
      ],
      "source": [
        "df.shape"
      ]
    },
    {
      "cell_type": "code",
      "execution_count": 8,
      "metadata": {
        "id": "YQdwsBcAhQ-q"
      },
      "outputs": [],
      "source": [
        "df.drop(\"Unnamed: 0\",inplace=True,axis=1)"
      ]
    },
    {
      "cell_type": "code",
      "execution_count": 9,
      "metadata": {
        "colab": {
          "base_uri": "https://localhost:8080/"
        },
        "id": "uMlbU9XwfECG",
        "outputId": "b8a62688-1ae9-42c7-8130-38db13f0820c"
      },
      "outputs": [
        {
          "output_type": "execute_result",
          "data": {
            "text/plain": [
              "book_title        0\n",
              "author            0\n",
              "reader_review    13\n",
              "rating            0\n",
              "label             0\n",
              "dtype: int64"
            ]
          },
          "metadata": {},
          "execution_count": 9
        }
      ],
      "source": [
        "df.isnull().sum()"
      ]
    },
    {
      "cell_type": "code",
      "execution_count": 10,
      "metadata": {
        "id": "ZhNt_HakfIS8"
      },
      "outputs": [],
      "source": [
        "df[\"reader_review\"].fillna(value=\"No Review\", inplace=True)"
      ]
    },
    {
      "cell_type": "code",
      "execution_count": 11,
      "metadata": {
        "colab": {
          "base_uri": "https://localhost:8080/"
        },
        "id": "N585V_6IgY2H",
        "outputId": "6b4497f1-ceaa-4326-c1bb-4265305dd8f3"
      },
      "outputs": [
        {
          "output_type": "execute_result",
          "data": {
            "text/plain": [
              "book_title       0\n",
              "author           0\n",
              "reader_review    0\n",
              "rating           0\n",
              "label            0\n",
              "dtype: int64"
            ]
          },
          "metadata": {},
          "execution_count": 11
        }
      ],
      "source": [
        "df.isnull().sum()"
      ]
    },
    {
      "cell_type": "code",
      "execution_count": 12,
      "metadata": {
        "colab": {
          "base_uri": "https://localhost:8080/"
        },
        "id": "pEJYuoc8gbpm",
        "outputId": "bd8b1962-179d-4c49-f44e-847dc9023fa4"
      },
      "outputs": [
        {
          "output_type": "execute_result",
          "data": {
            "text/plain": [
              "array([0.5, 1. , 1.5, 2. , 2.5, 3. , 3.5, 4. , 4.5, 5. , 5.5])"
            ]
          },
          "metadata": {},
          "execution_count": 12
        }
      ],
      "source": [
        "np.sort(df['rating'].unique())"
      ]
    },
    {
      "cell_type": "code",
      "execution_count": 13,
      "metadata": {
        "colab": {
          "base_uri": "https://localhost:8080/",
          "height": 624
        },
        "id": "E7EEquEPg0xW",
        "outputId": "e4f1e5d7-2b6b-4f64-cf2f-d7b4573c4843"
      },
      "outputs": [
        {
          "output_type": "execute_result",
          "data": {
            "text/plain": [
              "<matplotlib.axes._subplots.AxesSubplot at 0x7f973937f490>"
            ]
          },
          "metadata": {},
          "execution_count": 13
        },
        {
          "output_type": "display_data",
          "data": {
            "text/plain": [
              "<Figure size 1080x720 with 1 Axes>"
            ],
            "image/png": "[encoded data removed]"
          },
          "metadata": {
            "needs_background": "light"
          }
        }
      ],
      "source": [
        "#Book review rating plot \n",
        "plt.figure(figsize=(15,10))\n",
        "sns.histplot(df['rating'])"
      ]
    },
    {
      "cell_type": "code",
      "execution_count": 14,
      "metadata": {
        "colab": {
          "base_uri": "https://localhost:8080/",
          "height": 300
        },
        "id": "gdw2LgDig5aN",
        "outputId": "8cb4308a-2dbe-4a09-f202-9f56ed3905d9"
      },
      "outputs": [
        {
          "output_type": "execute_result",
          "data": {
            "text/plain": [
              "            rating        label\n",
              "count  9658.000000  9658.000000\n",
              "mean      4.020242     0.601677\n",
              "std       0.934551     0.646211\n",
              "min       0.500000    -1.000000\n",
              "25%       3.500000     0.000000\n",
              "50%       4.000000     1.000000\n",
              "75%       5.000000     1.000000\n",
              "max       5.500000     1.000000"
            ],
            "text/html": [
              "\n",
              "  <div id=\"df-68247c80-6be5-40cd-ae39-28880b75b975\">\n",
              "    <div class=\"colab-df-container\">\n",
              "      <div>\n",
              "<style scoped>\n",
              "    .dataframe tbody tr th:only-of-type {\n",
              "        vertical-align: middle;\n",
              "    }\n",
              "\n",
              "    .dataframe tbody tr th {\n",
              "        vertical-align: top;\n",
              "    }\n",
              "\n",
              "    .dataframe thead th {\n",
              "        text-align: right;\n",
              "    }\n",
              "</style>\n",
              "<table border=\"1\" class=\"dataframe\">\n",
              "  <thead>\n",
              "    <tr style=\"text-align: right;\">\n",
              "      <th></th>\n",
              "      <th>rating</th>\n",
              "      <th>label</th>\n",
              "    </tr>\n",
              "  </thead>\n",
              "  <tbody>\n",
              "    <tr>\n",
              "      <th>count</th>\n",
              "      <td>9658.000000</td>\n",
              "      <td>9658.000000</td>\n",
              "    </tr>\n",
              "    <tr>\n",
              "      <th>mean</th>\n",
              "      <td>4.020242</td>\n",
              "      <td>0.601677</td>\n",
              "    </tr>\n",
              "    <tr>\n",
              "      <th>std</th>\n",
              "      <td>0.934551</td>\n",
              "      <td>0.646211</td>\n",
              "    </tr>\n",
              "    <tr>\n",
              "      <th>min</th>\n",
              "      <td>0.500000</td>\n",
              "      <td>-1.000000</td>\n",
              "    </tr>\n",
              "    <tr>\n",
              "      <th>25%</th>\n",
              "      <td>3.500000</td>\n",
              "      <td>0.000000</td>\n",
              "    </tr>\n",
              "    <tr>\n",
              "      <th>50%</th>\n",
              "      <td>4.000000</td>\n",
              "      <td>1.000000</td>\n",
              "    </tr>\n",
              "    <tr>\n",
              "      <th>75%</th>\n",
              "      <td>5.000000</td>\n",
              "      <td>1.000000</td>\n",
              "    </tr>\n",
              "    <tr>\n",
              "      <th>max</th>\n",
              "      <td>5.500000</td>\n",
              "      <td>1.000000</td>\n",
              "    </tr>\n",
              "  </tbody>\n",
              "</table>\n",
              "</div>\n",
              "      <button class=\"colab-df-convert\" onclick=\"convertToInteractive('df-68247c80-6be5-40cd-ae39-28880b75b975')\"\n",
              "              title=\"Convert this dataframe to an interactive table.\"\n",
              "              style=\"display:none;\">\n",
              "        \n",
              "  <svg xmlns=\"http://www.w3.org/2000/svg\" height=\"24px\"viewBox=\"0 0 24 24\"\n",
              "       width=\"24px\">\n",
              "    <path d=\"M0 0h24v24H0V0z\" fill=\"none\"/>\n",
              "    <path d=\"M18.56 5.44l.94 2.06.94-2.06 2.06-.94-2.06-.94-.94-2.06-.94 2.06-2.06.94zm-11 1L8.5 8.5l.94-2.06 2.06-.94-2.06-.94L8.5 2.5l-.94 2.06-2.06.94zm10 10l.94 2.06.94-2.06 2.06-.94-2.06-.94-.94-2.06-.94 2.06-2.06.94z\"/><path d=\"M17.41 7.96l-1.37-1.37c-.4-.4-.92-.59-1.43-.59-.52 0-1.04.2-1.43.59L10.3 9.45l-7.72 7.72c-.78.78-.78 2.05 0 2.83L4 21.41c.39.39.9.59 1.41.59.51 0 1.02-.2 1.41-.59l7.78-7.78 2.81-2.81c.8-.78.8-2.07 0-2.86zM5.41 20L4 18.59l7.72-7.72 1.47 1.35L5.41 20z\"/>\n",
              "  </svg>\n",
              "      </button>\n",
              "      \n",
              "  <style>\n",
              "    .colab-df-container {\n",
              "      display:flex;\n",
              "      flex-wrap:wrap;\n",
              "      gap: 12px;\n",
              "    }\n",
              "\n",
              "    .colab-df-convert {\n",
              "      background-color: #E8F0FE;\n",
              "      border: none;\n",
              "      border-radius: 50%;\n",
              "      cursor: pointer;\n",
              "      display: none;\n",
              "      fill: #1967D2;\n",
              "      height: 32px;\n",
              "      padding: 0 0 0 0;\n",
              "      width: 32px;\n",
              "    }\n",
              "\n",
              "    .colab-df-convert:hover {\n",
              "      background-color: #E2EBFA;\n",
              "      box-shadow: 0px 1px 2px rgba(60, 64, 67, 0.3), 0px 1px 3px 1px rgba(60, 64, 67, 0.15);\n",
              "      fill: #174EA6;\n",
              "    }\n",
              "\n",
              "    [theme=dark] .colab-df-convert {\n",
              "      background-color: #3B4455;\n",
              "      fill: #D2E3FC;\n",
              "    }\n",
              "\n",
              "    [theme=dark] .colab-df-convert:hover {\n",
              "      background-color: #434B5C;\n",
              "      box-shadow: 0px 1px 3px 1px rgba(0, 0, 0, 0.15);\n",
              "      filter: drop-shadow(0px 1px 2px rgba(0, 0, 0, 0.3));\n",
              "      fill: #FFFFFF;\n",
              "    }\n",
              "  </style>\n",
              "\n",
              "      <script>\n",
              "        const buttonEl =\n",
              "          document.querySelector('#df-68247c80-6be5-40cd-ae39-28880b75b975 button.colab-df-convert');\n",
              "        buttonEl.style.display =\n",
              "          google.colab.kernel.accessAllowed ? 'block' : 'none';\n",
              "\n",
              "        async function convertToInteractive(key) {\n",
              "          const element = document.querySelector('#df-68247c80-6be5-40cd-ae39-28880b75b975');\n",
              "          const dataTable =\n",
              "            await google.colab.kernel.invokeFunction('convertToInteractive',\n",
              "                                                     [key], {});\n",
              "          if (!dataTable) return;\n",
              "\n",
              "          const docLinkHtml = 'Like what you see? Visit the ' +\n",
              "            '<a target=\"_blank\" href=https://colab.research.google.com/notebooks/data_table.ipynb>data table notebook</a>'\n",
              "            + ' to learn more about interactive tables.';\n",
              "          element.innerHTML = '';\n",
              "          dataTable['output_type'] = 'display_data';\n",
              "          await google.colab.output.renderOutput(dataTable, element);\n",
              "          const docLink = document.createElement('div');\n",
              "          docLink.innerHTML = docLinkHtml;\n",
              "          element.appendChild(docLink);\n",
              "        }\n",
              "      </script>\n",
              "    </div>\n",
              "  </div>\n",
              "  "
            ]
          },
          "metadata": {},
          "execution_count": 14
        }
      ],
      "source": [
        "df.describe()"
      ]
    },
    {
      "cell_type": "code",
      "execution_count": 15,
      "metadata": {
        "id": "h8dj2JAum41O"
      },
      "outputs": [],
      "source": [
        "#Hugging Face model for sentiment analysis\n",
        "classifier2 = pipeline(\"sentiment-analysis\",\n",
        "                       model=\"philschmid/distilbert-base-multilingual-cased-sentiment-2\",padding=True, truncation=True,max_length=50, add_special_tokens = True\n",
        "                       )"
      ]
    },
    {
      "cell_type": "code",
      "execution_count": 16,
      "metadata": {
        "colab": {
          "base_uri": "https://localhost:8080/"
        },
        "id": "uuhw2JNDGrXz",
        "outputId": "4a41bf20-f0df-4a34-be1e-cf4e4157f49e"
      },
      "outputs": [
        {
          "output_type": "stream",
          "name": "stderr",
          "text": [
            "[nltk_data] Downloading package punkt to /root/nltk_data...\n",
            "[nltk_data]   Package punkt is already up-to-date!\n",
            "[nltk_data] Downloading package stopwords to /root/nltk_data...\n",
            "[nltk_data]   Package stopwords is already up-to-date!\n",
            "[nltk_data] Downloading package wordnet to /root/nltk_data...\n",
            "[nltk_data]   Package wordnet is already up-to-date!\n",
            "[nltk_data] Downloading package omw-1.4 to /root/nltk_data...\n",
            "[nltk_data]   Package omw-1.4 is already up-to-date!\n"
          ]
        }
      ],
      "source": [
        "#text Cleaning\n",
        "import re\n",
        "import nltk\n",
        "nltk.download('punkt')\n",
        "from nltk.tokenize import word_tokenize\n",
        "\n",
        "nltk.download('stopwords')\n",
        "from nltk.corpus import stopwords\n",
        "stop_words = set(stopwords.words(\"french\"))\n",
        "\n",
        "import nltk\n",
        "nltk.download('wordnet')\n",
        "nltk.download('omw-1.4')\n",
        "from nltk.stem import WordNetLemmatizer\n",
        "\n",
        "lemmatizer = WordNetLemmatizer()"
      ]
    },
    {
      "cell_type": "code",
      "execution_count": 17,
      "metadata": {
        "colab": {
          "base_uri": "https://localhost:8080/"
        },
        "id": "mARwWzjjGt2r",
        "outputId": "b4295a55-e5e2-4d3e-852c-2dcd0c81cf34"
      },
      "outputs": [
        {
          "output_type": "stream",
          "name": "stdout",
          "text": [
            "Looking in indexes: https://pypi.org/simple, https://us-python.pkg.dev/colab-wheels/public/simple/\n",
            "Requirement already satisfied: demoji in /usr/local/lib/python3.8/dist-packages (1.1.0)\n"
          ]
        }
      ],
      "source": [
        "!pip install demoji"
      ]
    },
    {
      "cell_type": "code",
      "execution_count": 18,
      "metadata": {
        "id": "HuGJyFp8G8jj"
      },
      "outputs": [],
      "source": [
        "import demoji\n",
        "def handle_emoji(string):\n",
        "    #x = string.to_string(header=False, index=False)\n",
        "    emojis = demoji.findall(string)\n",
        "    #print(emojis)\n",
        "    for emoji in emojis:\n",
        "        string = string.replace(emoji, \" \" + emojis[emoji].split(\":\")[0])\n",
        "\n",
        "    return string"
      ]
    },
    {
      "cell_type": "code",
      "execution_count": 19,
      "metadata": {
        "id": "FYCWaFUEHBPL"
      },
      "outputs": [],
      "source": [
        "def text_cleaner(review):\n",
        "  # removing the not required texts\n",
        "  cleaned_review = re.sub(re.compile('<.*?>'), '', review) #removing HTML tags\n",
        "  cleaned_review = re.sub('[^A-Za-z]+', ' ', cleaned_review) #taking only words\n",
        "  cleaned_review = handle_emoji(cleaned_review)\n",
        "  cleaned_review = re.sub(r\"http\\S+\", \"\", cleaned_review) \n",
        "  cleaned_review = cleaned_review.lower()\n",
        "\n",
        "  tokens = nltk.word_tokenize(cleaned_review)\n",
        "\n",
        "  filtered_review = [word for word in tokens if word not in stop_words] # removing stop words\n",
        "\n",
        "  lemm_review = [lemmatizer.lemmatize(word)\n",
        "   for word in filtered_review]\n",
        "  review = \" \".join(lemm_review)\n",
        "  return(review)"
      ]
    },
    {
      "cell_type": "code",
      "execution_count": 20,
      "metadata": {
        "colab": {
          "base_uri": "https://localhost:8080/",
          "height": 206
        },
        "id": "0WAWIrAGHEPJ",
        "outputId": "c29d4db4-30cf-43e1-c09e-5a305ee96542"
      },
      "outputs": [
        {
          "output_type": "execute_result",
          "data": {
            "text/plain": [
              "                           book_title                 author  \\\n",
              "0    Le Démon de la Colline aux Loups  Dimitri Rouchon-Borie   \n",
              "1                              Simple      Marie-Aude Murail   \n",
              "2  La plus secrète mémoire des hommes   Mohamed Mbougar Sarr   \n",
              "3                            Trancher      Amélie Cordonnier   \n",
              "4            La guerre d'Alan, tome 2       Emmanuel Guibert   \n",
              "\n",
              "                                       reader_review  rating  label  \\\n",
              "0  Ce n'est pas le premier roman à aborder les th...     5.0      1   \n",
              "1  Simple, alias Barnabé, est un jeune homme de 2...     4.0      1   \n",
              "2  Pour écrire La plus secrète mémoire des hommes...     4.0      1   \n",
              "3  « La violence d'Aurélien est revenue. Par la f...     3.5      0   \n",
              "4  Dans ce second album de La Guerre d’Alan, Emma...     5.0      1   \n",
              "\n",
              "                                           cleanText  \n",
              "0  premier roman aborder th lourds inceste enfanc...  \n",
              "1  simple alias barnab jeune homme an a ge mental...  \n",
              "2  crire plus secr moire hommes mohamed mbougar s...  \n",
              "3  violence aur lien revenue fen tre peut tre bie...  \n",
              "4  second album guerre alan emmanuel guibert a fa...  "
            ],
            "text/html": [
              "\n",
              "  <div id=\"df-3d700e71-6af7-47d2-8f35-c213cf88c6ff\">\n",
              "    <div class=\"colab-df-container\">\n",
              "      <div>\n",
              "<style scoped>\n",
              "    .dataframe tbody tr th:only-of-type {\n",
              "        vertical-align: middle;\n",
              "    }\n",
              "\n",
              "    .dataframe tbody tr th {\n",
              "        vertical-align: top;\n",
              "    }\n",
              "\n",
              "    .dataframe thead th {\n",
              "        text-align: right;\n",
              "    }\n",
              "</style>\n",
              "<table border=\"1\" class=\"dataframe\">\n",
              "  <thead>\n",
              "    <tr style=\"text-align: right;\">\n",
              "      <th></th>\n",
              "      <th>book_title</th>\n",
              "      <th>author</th>\n",
              "      <th>reader_review</th>\n",
              "      <th>rating</th>\n",
              "      <th>label</th>\n",
              "      <th>cleanText</th>\n",
              "    </tr>\n",
              "  </thead>\n",
              "  <tbody>\n",
              "    <tr>\n",
              "      <th>0</th>\n",
              "      <td>Le Démon de la Colline aux Loups</td>\n",
              "      <td>Dimitri Rouchon-Borie</td>\n",
              "      <td>Ce n'est pas le premier roman à aborder les th...</td>\n",
              "      <td>5.0</td>\n",
              "      <td>1</td>\n",
              "      <td>premier roman aborder th lourds inceste enfanc...</td>\n",
              "    </tr>\n",
              "    <tr>\n",
              "      <th>1</th>\n",
              "      <td>Simple</td>\n",
              "      <td>Marie-Aude Murail</td>\n",
              "      <td>Simple, alias Barnabé, est un jeune homme de 2...</td>\n",
              "      <td>4.0</td>\n",
              "      <td>1</td>\n",
              "      <td>simple alias barnab jeune homme an a ge mental...</td>\n",
              "    </tr>\n",
              "    <tr>\n",
              "      <th>2</th>\n",
              "      <td>La plus secrète mémoire des hommes</td>\n",
              "      <td>Mohamed Mbougar Sarr</td>\n",
              "      <td>Pour écrire La plus secrète mémoire des hommes...</td>\n",
              "      <td>4.0</td>\n",
              "      <td>1</td>\n",
              "      <td>crire plus secr moire hommes mohamed mbougar s...</td>\n",
              "    </tr>\n",
              "    <tr>\n",
              "      <th>3</th>\n",
              "      <td>Trancher</td>\n",
              "      <td>Amélie Cordonnier</td>\n",
              "      <td>« La violence d'Aurélien est revenue. Par la f...</td>\n",
              "      <td>3.5</td>\n",
              "      <td>0</td>\n",
              "      <td>violence aur lien revenue fen tre peut tre bie...</td>\n",
              "    </tr>\n",
              "    <tr>\n",
              "      <th>4</th>\n",
              "      <td>La guerre d'Alan, tome 2</td>\n",
              "      <td>Emmanuel Guibert</td>\n",
              "      <td>Dans ce second album de La Guerre d’Alan, Emma...</td>\n",
              "      <td>5.0</td>\n",
              "      <td>1</td>\n",
              "      <td>second album guerre alan emmanuel guibert a fa...</td>\n",
              "    </tr>\n",
              "  </tbody>\n",
              "</table>\n",
              "</div>\n",
              "      <button class=\"colab-df-convert\" onclick=\"convertToInteractive('df-3d700e71-6af7-47d2-8f35-c213cf88c6ff')\"\n",
              "              title=\"Convert this dataframe to an interactive table.\"\n",
              "              style=\"display:none;\">\n",
              "        \n",
              "  <svg xmlns=\"http://www.w3.org/2000/svg\" height=\"24px\"viewBox=\"0 0 24 24\"\n",
              "       width=\"24px\">\n",
              "    <path d=\"M0 0h24v24H0V0z\" fill=\"none\"/>\n",
              "    <path d=\"M18.56 5.44l.94 2.06.94-2.06 2.06-.94-2.06-.94-.94-2.06-.94 2.06-2.06.94zm-11 1L8.5 8.5l.94-2.06 2.06-.94-2.06-.94L8.5 2.5l-.94 2.06-2.06.94zm10 10l.94 2.06.94-2.06 2.06-.94-2.06-.94-.94-2.06-.94 2.06-2.06.94z\"/><path d=\"M17.41 7.96l-1.37-1.37c-.4-.4-.92-.59-1.43-.59-.52 0-1.04.2-1.43.59L10.3 9.45l-7.72 7.72c-.78.78-.78 2.05 0 2.83L4 21.41c.39.39.9.59 1.41.59.51 0 1.02-.2 1.41-.59l7.78-7.78 2.81-2.81c.8-.78.8-2.07 0-2.86zM5.41 20L4 18.59l7.72-7.72 1.47 1.35L5.41 20z\"/>\n",
              "  </svg>\n",
              "      </button>\n",
              "      \n",
              "  <style>\n",
              "    .colab-df-container {\n",
              "      display:flex;\n",
              "      flex-wrap:wrap;\n",
              "      gap: 12px;\n",
              "    }\n",
              "\n",
              "    .colab-df-convert {\n",
              "      background-color: #E8F0FE;\n",
              "      border: none;\n",
              "      border-radius: 50%;\n",
              "      cursor: pointer;\n",
              "      display: none;\n",
              "      fill: #1967D2;\n",
              "      height: 32px;\n",
              "      padding: 0 0 0 0;\n",
              "      width: 32px;\n",
              "    }\n",
              "\n",
              "    .colab-df-convert:hover {\n",
              "      background-color: #E2EBFA;\n",
              "      box-shadow: 0px 1px 2px rgba(60, 64, 67, 0.3), 0px 1px 3px 1px rgba(60, 64, 67, 0.15);\n",
              "      fill: #174EA6;\n",
              "    }\n",
              "\n",
              "    [theme=dark] .colab-df-convert {\n",
              "      background-color: #3B4455;\n",
              "      fill: #D2E3FC;\n",
              "    }\n",
              "\n",
              "    [theme=dark] .colab-df-convert:hover {\n",
              "      background-color: #434B5C;\n",
              "      box-shadow: 0px 1px 3px 1px rgba(0, 0, 0, 0.15);\n",
              "      filter: drop-shadow(0px 1px 2px rgba(0, 0, 0, 0.3));\n",
              "      fill: #FFFFFF;\n",
              "    }\n",
              "  </style>\n",
              "\n",
              "      <script>\n",
              "        const buttonEl =\n",
              "          document.querySelector('#df-3d700e71-6af7-47d2-8f35-c213cf88c6ff button.colab-df-convert');\n",
              "        buttonEl.style.display =\n",
              "          google.colab.kernel.accessAllowed ? 'block' : 'none';\n",
              "\n",
              "        async function convertToInteractive(key) {\n",
              "          const element = document.querySelector('#df-3d700e71-6af7-47d2-8f35-c213cf88c6ff');\n",
              "          const dataTable =\n",
              "            await google.colab.kernel.invokeFunction('convertToInteractive',\n",
              "                                                     [key], {});\n",
              "          if (!dataTable) return;\n",
              "\n",
              "          const docLinkHtml = 'Like what you see? Visit the ' +\n",
              "            '<a target=\"_blank\" href=https://colab.research.google.com/notebooks/data_table.ipynb>data table notebook</a>'\n",
              "            + ' to learn more about interactive tables.';\n",
              "          element.innerHTML = '';\n",
              "          dataTable['output_type'] = 'display_data';\n",
              "          await google.colab.output.renderOutput(dataTable, element);\n",
              "          const docLink = document.createElement('div');\n",
              "          docLink.innerHTML = docLinkHtml;\n",
              "          element.appendChild(docLink);\n",
              "        }\n",
              "      </script>\n",
              "    </div>\n",
              "  </div>\n",
              "  "
            ]
          },
          "metadata": {},
          "execution_count": 20
        }
      ],
      "source": [
        "cleanText=[]\n",
        "\n",
        "for t in df['reader_review']:\n",
        " cleanText.append(text_cleaner(t))\n",
        "\n",
        "df[\"cleanText\"] = cleanText\n",
        "df.head()"
      ]
    },
    {
      "cell_type": "code",
      "execution_count": 21,
      "metadata": {
        "id": "1_GzivMdvL7o"
      },
      "outputs": [],
      "source": [
        "u= classifier2(\"Ce n'est pas le premier roman à aborder les thèmes lourds de l'inceste et de l'enfance martyre, mais il le fait avec une audace et un brio incomparables qui rendent ce livre marquant dans une vie de lecteur. On y sent à quel point l'auteur n'a pas cherché à faire quelque chose, on ne sent jamais l'intention, on sent juste l'urgence, incandescente, à raconter la vérité d'un homme maltraité par la vie au point de dire à la nuit «  tu ne me feras pas peur j'ai plus de noir que toi dans mon enfance.\")"
      ]
    },
    {
      "cell_type": "code",
      "execution_count": 22,
      "metadata": {
        "colab": {
          "base_uri": "https://localhost:8080/"
        },
        "id": "g3MgEebdE2bx",
        "outputId": "76a14583-5619-4e97-978c-d4bbd98a93b6"
      },
      "outputs": [
        {
          "output_type": "execute_result",
          "data": {
            "text/plain": [
              "[{'label': 'neutral', 'score': 0.6183509230613708}]"
            ]
          },
          "metadata": {},
          "execution_count": 22
        }
      ],
      "source": [
        "u"
      ]
    },
    {
      "cell_type": "code",
      "execution_count": 23,
      "metadata": {
        "id": "C5zPPAhM8zxm"
      },
      "outputs": [],
      "source": [
        "v=u[0]"
      ]
    },
    {
      "cell_type": "code",
      "execution_count": 24,
      "metadata": {
        "colab": {
          "base_uri": "https://localhost:8080/",
          "height": 36
        },
        "id": "zhx_HdN__A7E",
        "outputId": "7cc32184-6b53-45fb-9e44-e90bdf124edc"
      },
      "outputs": [
        {
          "output_type": "execute_result",
          "data": {
            "text/plain": [
              "'neutral'"
            ],
            "application/vnd.google.colaboratory.intrinsic+json": {
              "type": "string"
            }
          },
          "metadata": {},
          "execution_count": 24
        }
      ],
      "source": [
        "list(v.values())[0]"
      ]
    },
    {
      "cell_type": "code",
      "execution_count": 25,
      "metadata": {
        "id": "5_jqW7mt4BvL"
      },
      "outputs": [],
      "source": [
        "lab=[]\n",
        "soc=[]\n",
        "for t in df['cleanText']:\n",
        "  u= classifier2(t)\n",
        "  v= list(u[0].values())\n",
        "  lab.append(v[0])\n",
        "  soc.append(v[1])\n",
        " \n",
        "df['Label'] = lab\n",
        "df['Score'] = soc"
      ]
    },
    {
      "cell_type": "code",
      "execution_count": 26,
      "metadata": {
        "colab": {
          "base_uri": "https://localhost:8080/",
          "height": 206
        },
        "id": "ZjoQduHUV_MK",
        "outputId": "bf708775-63d6-4c1b-e889-917defb59940"
      },
      "outputs": [
        {
          "output_type": "execute_result",
          "data": {
            "text/plain": [
              "                           book_title                 author  \\\n",
              "0    Le Démon de la Colline aux Loups  Dimitri Rouchon-Borie   \n",
              "1                              Simple      Marie-Aude Murail   \n",
              "2  La plus secrète mémoire des hommes   Mohamed Mbougar Sarr   \n",
              "3                            Trancher      Amélie Cordonnier   \n",
              "4            La guerre d'Alan, tome 2       Emmanuel Guibert   \n",
              "\n",
              "                                       reader_review  rating  label  \\\n",
              "0  Ce n'est pas le premier roman à aborder les th...     5.0      1   \n",
              "1  Simple, alias Barnabé, est un jeune homme de 2...     4.0      1   \n",
              "2  Pour écrire La plus secrète mémoire des hommes...     4.0      1   \n",
              "3  « La violence d'Aurélien est revenue. Par la f...     3.5      0   \n",
              "4  Dans ce second album de La Guerre d’Alan, Emma...     5.0      1   \n",
              "\n",
              "                                           cleanText     Label     Score  \n",
              "0  premier roman aborder th lourds inceste enfanc...  positive  0.968669  \n",
              "1  simple alias barnab jeune homme an a ge mental...  positive  0.799915  \n",
              "2  crire plus secr moire hommes mohamed mbougar s...  negative  0.804323  \n",
              "3  violence aur lien revenue fen tre peut tre bie...  negative  0.560064  \n",
              "4  second album guerre alan emmanuel guibert a fa...  positive  0.611250  "
            ],
            "text/html": [
              "\n",
              "  <div id=\"df-e2181809-8413-4823-92c5-96e67dea8715\">\n",
              "    <div class=\"colab-df-container\">\n",
              "      <div>\n",
              "<style scoped>\n",
              "    .dataframe tbody tr th:only-of-type {\n",
              "        vertical-align: middle;\n",
              "    }\n",
              "\n",
              "    .dataframe tbody tr th {\n",
              "        vertical-align: top;\n",
              "    }\n",
              "\n",
              "    .dataframe thead th {\n",
              "        text-align: right;\n",
              "    }\n",
              "</style>\n",
              "<table border=\"1\" class=\"dataframe\">\n",
              "  <thead>\n",
              "    <tr style=\"text-align: right;\">\n",
              "      <th></th>\n",
              "      <th>book_title</th>\n",
              "      <th>author</th>\n",
              "      <th>reader_review</th>\n",
              "      <th>rating</th>\n",
              "      <th>label</th>\n",
              "      <th>cleanText</th>\n",
              "      <th>Label</th>\n",
              "      <th>Score</th>\n",
              "    </tr>\n",
              "  </thead>\n",
              "  <tbody>\n",
              "    <tr>\n",
              "      <th>0</th>\n",
              "      <td>Le Démon de la Colline aux Loups</td>\n",
              "      <td>Dimitri Rouchon-Borie</td>\n",
              "      <td>Ce n'est pas le premier roman à aborder les th...</td>\n",
              "      <td>5.0</td>\n",
              "      <td>1</td>\n",
              "      <td>premier roman aborder th lourds inceste enfanc...</td>\n",
              "      <td>positive</td>\n",
              "      <td>0.968669</td>\n",
              "    </tr>\n",
              "    <tr>\n",
              "      <th>1</th>\n",
              "      <td>Simple</td>\n",
              "      <td>Marie-Aude Murail</td>\n",
              "      <td>Simple, alias Barnabé, est un jeune homme de 2...</td>\n",
              "      <td>4.0</td>\n",
              "      <td>1</td>\n",
              "      <td>simple alias barnab jeune homme an a ge mental...</td>\n",
              "      <td>positive</td>\n",
              "      <td>0.799915</td>\n",
              "    </tr>\n",
              "    <tr>\n",
              "      <th>2</th>\n",
              "      <td>La plus secrète mémoire des hommes</td>\n",
              "      <td>Mohamed Mbougar Sarr</td>\n",
              "      <td>Pour écrire La plus secrète mémoire des hommes...</td>\n",
              "      <td>4.0</td>\n",
              "      <td>1</td>\n",
              "      <td>crire plus secr moire hommes mohamed mbougar s...</td>\n",
              "      <td>negative</td>\n",
              "      <td>0.804323</td>\n",
              "    </tr>\n",
              "    <tr>\n",
              "      <th>3</th>\n",
              "      <td>Trancher</td>\n",
              "      <td>Amélie Cordonnier</td>\n",
              "      <td>« La violence d'Aurélien est revenue. Par la f...</td>\n",
              "      <td>3.5</td>\n",
              "      <td>0</td>\n",
              "      <td>violence aur lien revenue fen tre peut tre bie...</td>\n",
              "      <td>negative</td>\n",
              "      <td>0.560064</td>\n",
              "    </tr>\n",
              "    <tr>\n",
              "      <th>4</th>\n",
              "      <td>La guerre d'Alan, tome 2</td>\n",
              "      <td>Emmanuel Guibert</td>\n",
              "      <td>Dans ce second album de La Guerre d’Alan, Emma...</td>\n",
              "      <td>5.0</td>\n",
              "      <td>1</td>\n",
              "      <td>second album guerre alan emmanuel guibert a fa...</td>\n",
              "      <td>positive</td>\n",
              "      <td>0.611250</td>\n",
              "    </tr>\n",
              "  </tbody>\n",
              "</table>\n",
              "</div>\n",
              "      <button class=\"colab-df-convert\" onclick=\"convertToInteractive('df-e2181809-8413-4823-92c5-96e67dea8715')\"\n",
              "              title=\"Convert this dataframe to an interactive table.\"\n",
              "              style=\"display:none;\">\n",
              "        \n",
              "  <svg xmlns=\"http://www.w3.org/2000/svg\" height=\"24px\"viewBox=\"0 0 24 24\"\n",
              "       width=\"24px\">\n",
              "    <path d=\"M0 0h24v24H0V0z\" fill=\"none\"/>\n",
              "    <path d=\"M18.56 5.44l.94 2.06.94-2.06 2.06-.94-2.06-.94-.94-2.06-.94 2.06-2.06.94zm-11 1L8.5 8.5l.94-2.06 2.06-.94-2.06-.94L8.5 2.5l-.94 2.06-2.06.94zm10 10l.94 2.06.94-2.06 2.06-.94-2.06-.94-.94-2.06-.94 2.06-2.06.94z\"/><path d=\"M17.41 7.96l-1.37-1.37c-.4-.4-.92-.59-1.43-.59-.52 0-1.04.2-1.43.59L10.3 9.45l-7.72 7.72c-.78.78-.78 2.05 0 2.83L4 21.41c.39.39.9.59 1.41.59.51 0 1.02-.2 1.41-.59l7.78-7.78 2.81-2.81c.8-.78.8-2.07 0-2.86zM5.41 20L4 18.59l7.72-7.72 1.47 1.35L5.41 20z\"/>\n",
              "  </svg>\n",
              "      </button>\n",
              "      \n",
              "  <style>\n",
              "    .colab-df-container {\n",
              "      display:flex;\n",
              "      flex-wrap:wrap;\n",
              "      gap: 12px;\n",
              "    }\n",
              "\n",
              "    .colab-df-convert {\n",
              "      background-color: #E8F0FE;\n",
              "      border: none;\n",
              "      border-radius: 50%;\n",
              "      cursor: pointer;\n",
              "      display: none;\n",
              "      fill: #1967D2;\n",
              "      height: 32px;\n",
              "      padding: 0 0 0 0;\n",
              "      width: 32px;\n",
              "    }\n",
              "\n",
              "    .colab-df-convert:hover {\n",
              "      background-color: #E2EBFA;\n",
              "      box-shadow: 0px 1px 2px rgba(60, 64, 67, 0.3), 0px 1px 3px 1px rgba(60, 64, 67, 0.15);\n",
              "      fill: #174EA6;\n",
              "    }\n",
              "\n",
              "    [theme=dark] .colab-df-convert {\n",
              "      background-color: #3B4455;\n",
              "      fill: #D2E3FC;\n",
              "    }\n",
              "\n",
              "    [theme=dark] .colab-df-convert:hover {\n",
              "      background-color: #434B5C;\n",
              "      box-shadow: 0px 1px 3px 1px rgba(0, 0, 0, 0.15);\n",
              "      filter: drop-shadow(0px 1px 2px rgba(0, 0, 0, 0.3));\n",
              "      fill: #FFFFFF;\n",
              "    }\n",
              "  </style>\n",
              "\n",
              "      <script>\n",
              "        const buttonEl =\n",
              "          document.querySelector('#df-e2181809-8413-4823-92c5-96e67dea8715 button.colab-df-convert');\n",
              "        buttonEl.style.display =\n",
              "          google.colab.kernel.accessAllowed ? 'block' : 'none';\n",
              "\n",
              "        async function convertToInteractive(key) {\n",
              "          const element = document.querySelector('#df-e2181809-8413-4823-92c5-96e67dea8715');\n",
              "          const dataTable =\n",
              "            await google.colab.kernel.invokeFunction('convertToInteractive',\n",
              "                                                     [key], {});\n",
              "          if (!dataTable) return;\n",
              "\n",
              "          const docLinkHtml = 'Like what you see? Visit the ' +\n",
              "            '<a target=\"_blank\" href=https://colab.research.google.com/notebooks/data_table.ipynb>data table notebook</a>'\n",
              "            + ' to learn more about interactive tables.';\n",
              "          element.innerHTML = '';\n",
              "          dataTable['output_type'] = 'display_data';\n",
              "          await google.colab.output.renderOutput(dataTable, element);\n",
              "          const docLink = document.createElement('div');\n",
              "          docLink.innerHTML = docLinkHtml;\n",
              "          element.appendChild(docLink);\n",
              "        }\n",
              "      </script>\n",
              "    </div>\n",
              "  </div>\n",
              "  "
            ]
          },
          "metadata": {},
          "execution_count": 26
        }
      ],
      "source": [
        "df.head()"
      ]
    },
    {
      "cell_type": "code",
      "source": [
        "# Plot for hugging face sentiment analysis model\n",
        "import seaborn as sns\n",
        "sns.countplot(df['Label'], palette=\"plasma\")\n",
        "fig = plt.gcf()\n",
        "fig.set_size_inches(10,10)\n",
        "plt.title('Positive vs Negative vs Neutral Label count')"
      ],
      "metadata": {
        "colab": {
          "base_uri": "https://localhost:8080/",
          "height": 696
        },
        "id": "Y_wpS6y-A_qm",
        "outputId": "d94a3720-d657-432c-f5f2-c708a8818ccf"
      },
      "execution_count": 99,
      "outputs": [
        {
          "output_type": "stream",
          "name": "stderr",
          "text": [
            "/usr/local/lib/python3.8/dist-packages/seaborn/_decorators.py:36: FutureWarning: Pass the following variable as a keyword arg: x. From version 0.12, the only valid positional argument will be `data`, and passing other arguments without an explicit keyword will result in an error or misinterpretation.\n",
            "  warnings.warn(\n"
          ]
        },
        {
          "output_type": "execute_result",
          "data": {
            "text/plain": [
              "Text(0.5, 1.0, 'Positive vs Negative vs Neutral Label count')"
            ]
          },
          "metadata": {},
          "execution_count": 99
        },
        {
          "output_type": "display_data",
          "data": {
            "text/plain": [
              "<Figure size 720x720 with 1 Axes>"
            ],
            "image/png": "[encoded data removed]"
          },
          "metadata": {
            "needs_background": "light"
          }
        }
      ]
    },
    {
      "cell_type": "markdown",
      "source": [
        "We can see the positive ratings are the highest."
      ],
      "metadata": {
        "id": "fxF2R5mBCAVd"
      }
    },
    {
      "cell_type": "code",
      "execution_count": 27,
      "metadata": {
        "id": "e3duJ1Njtw2B"
      },
      "outputs": [],
      "source": [
        "def text_cleaner1(review):\n",
        "  # removing the not required texts\n",
        "  cleaned_review = re.sub(re.compile('<.*?>'), '', review) #removing HTML tags\n",
        "  cleaned_review = re.sub('[^A-Za-z]+', ' ', cleaned_review) #taking only words\n",
        "  cleaned_review = handle_emoji(cleaned_review)\n",
        "  cleaned_review = re.sub(r\"http\\S+\", \"\", cleaned_review) \n",
        "  cleaned_review = cleaned_review.lower()\n",
        "  return(cleaned_review)"
      ]
    },
    {
      "cell_type": "code",
      "execution_count": 28,
      "metadata": {
        "id": "5dcH_WdkYXfn"
      },
      "outputs": [],
      "source": [
        "dfe=df[[\"book_title\",\"author\",\"reader_review\",\"rating\",\"label\"]]"
      ]
    },
    {
      "cell_type": "code",
      "source": [
        "dfe.head()"
      ],
      "metadata": {
        "colab": {
          "base_uri": "https://localhost:8080/",
          "height": 206
        },
        "id": "waxpPozM77hn",
        "outputId": "a0466854-268d-431c-eeeb-8e13d0ea3f98"
      },
      "execution_count": 29,
      "outputs": [
        {
          "output_type": "execute_result",
          "data": {
            "text/plain": [
              "                           book_title                 author  \\\n",
              "0    Le Démon de la Colline aux Loups  Dimitri Rouchon-Borie   \n",
              "1                              Simple      Marie-Aude Murail   \n",
              "2  La plus secrète mémoire des hommes   Mohamed Mbougar Sarr   \n",
              "3                            Trancher      Amélie Cordonnier   \n",
              "4            La guerre d'Alan, tome 2       Emmanuel Guibert   \n",
              "\n",
              "                                       reader_review  rating  label  \n",
              "0  Ce n'est pas le premier roman à aborder les th...     5.0      1  \n",
              "1  Simple, alias Barnabé, est un jeune homme de 2...     4.0      1  \n",
              "2  Pour écrire La plus secrète mémoire des hommes...     4.0      1  \n",
              "3  « La violence d'Aurélien est revenue. Par la f...     3.5      0  \n",
              "4  Dans ce second album de La Guerre d’Alan, Emma...     5.0      1  "
            ],
            "text/html": [
              "\n",
              "  <div id=\"df-016b80ce-0129-4ef4-bac0-956b8bbe6369\">\n",
              "    <div class=\"colab-df-container\">\n",
              "      <div>\n",
              "<style scoped>\n",
              "    .dataframe tbody tr th:only-of-type {\n",
              "        vertical-align: middle;\n",
              "    }\n",
              "\n",
              "    .dataframe tbody tr th {\n",
              "        vertical-align: top;\n",
              "    }\n",
              "\n",
              "    .dataframe thead th {\n",
              "        text-align: right;\n",
              "    }\n",
              "</style>\n",
              "<table border=\"1\" class=\"dataframe\">\n",
              "  <thead>\n",
              "    <tr style=\"text-align: right;\">\n",
              "      <th></th>\n",
              "      <th>book_title</th>\n",
              "      <th>author</th>\n",
              "      <th>reader_review</th>\n",
              "      <th>rating</th>\n",
              "      <th>label</th>\n",
              "    </tr>\n",
              "  </thead>\n",
              "  <tbody>\n",
              "    <tr>\n",
              "      <th>0</th>\n",
              "      <td>Le Démon de la Colline aux Loups</td>\n",
              "      <td>Dimitri Rouchon-Borie</td>\n",
              "      <td>Ce n'est pas le premier roman à aborder les th...</td>\n",
              "      <td>5.0</td>\n",
              "      <td>1</td>\n",
              "    </tr>\n",
              "    <tr>\n",
              "      <th>1</th>\n",
              "      <td>Simple</td>\n",
              "      <td>Marie-Aude Murail</td>\n",
              "      <td>Simple, alias Barnabé, est un jeune homme de 2...</td>\n",
              "      <td>4.0</td>\n",
              "      <td>1</td>\n",
              "    </tr>\n",
              "    <tr>\n",
              "      <th>2</th>\n",
              "      <td>La plus secrète mémoire des hommes</td>\n",
              "      <td>Mohamed Mbougar Sarr</td>\n",
              "      <td>Pour écrire La plus secrète mémoire des hommes...</td>\n",
              "      <td>4.0</td>\n",
              "      <td>1</td>\n",
              "    </tr>\n",
              "    <tr>\n",
              "      <th>3</th>\n",
              "      <td>Trancher</td>\n",
              "      <td>Amélie Cordonnier</td>\n",
              "      <td>« La violence d'Aurélien est revenue. Par la f...</td>\n",
              "      <td>3.5</td>\n",
              "      <td>0</td>\n",
              "    </tr>\n",
              "    <tr>\n",
              "      <th>4</th>\n",
              "      <td>La guerre d'Alan, tome 2</td>\n",
              "      <td>Emmanuel Guibert</td>\n",
              "      <td>Dans ce second album de La Guerre d’Alan, Emma...</td>\n",
              "      <td>5.0</td>\n",
              "      <td>1</td>\n",
              "    </tr>\n",
              "  </tbody>\n",
              "</table>\n",
              "</div>\n",
              "      <button class=\"colab-df-convert\" onclick=\"convertToInteractive('df-016b80ce-0129-4ef4-bac0-956b8bbe6369')\"\n",
              "              title=\"Convert this dataframe to an interactive table.\"\n",
              "              style=\"display:none;\">\n",
              "        \n",
              "  <svg xmlns=\"http://www.w3.org/2000/svg\" height=\"24px\"viewBox=\"0 0 24 24\"\n",
              "       width=\"24px\">\n",
              "    <path d=\"M0 0h24v24H0V0z\" fill=\"none\"/>\n",
              "    <path d=\"M18.56 5.44l.94 2.06.94-2.06 2.06-.94-2.06-.94-.94-2.06-.94 2.06-2.06.94zm-11 1L8.5 8.5l.94-2.06 2.06-.94-2.06-.94L8.5 2.5l-.94 2.06-2.06.94zm10 10l.94 2.06.94-2.06 2.06-.94-2.06-.94-.94-2.06-.94 2.06-2.06.94z\"/><path d=\"M17.41 7.96l-1.37-1.37c-.4-.4-.92-.59-1.43-.59-.52 0-1.04.2-1.43.59L10.3 9.45l-7.72 7.72c-.78.78-.78 2.05 0 2.83L4 21.41c.39.39.9.59 1.41.59.51 0 1.02-.2 1.41-.59l7.78-7.78 2.81-2.81c.8-.78.8-2.07 0-2.86zM5.41 20L4 18.59l7.72-7.72 1.47 1.35L5.41 20z\"/>\n",
              "  </svg>\n",
              "      </button>\n",
              "      \n",
              "  <style>\n",
              "    .colab-df-container {\n",
              "      display:flex;\n",
              "      flex-wrap:wrap;\n",
              "      gap: 12px;\n",
              "    }\n",
              "\n",
              "    .colab-df-convert {\n",
              "      background-color: #E8F0FE;\n",
              "      border: none;\n",
              "      border-radius: 50%;\n",
              "      cursor: pointer;\n",
              "      display: none;\n",
              "      fill: #1967D2;\n",
              "      height: 32px;\n",
              "      padding: 0 0 0 0;\n",
              "      width: 32px;\n",
              "    }\n",
              "\n",
              "    .colab-df-convert:hover {\n",
              "      background-color: #E2EBFA;\n",
              "      box-shadow: 0px 1px 2px rgba(60, 64, 67, 0.3), 0px 1px 3px 1px rgba(60, 64, 67, 0.15);\n",
              "      fill: #174EA6;\n",
              "    }\n",
              "\n",
              "    [theme=dark] .colab-df-convert {\n",
              "      background-color: #3B4455;\n",
              "      fill: #D2E3FC;\n",
              "    }\n",
              "\n",
              "    [theme=dark] .colab-df-convert:hover {\n",
              "      background-color: #434B5C;\n",
              "      box-shadow: 0px 1px 3px 1px rgba(0, 0, 0, 0.15);\n",
              "      filter: drop-shadow(0px 1px 2px rgba(0, 0, 0, 0.3));\n",
              "      fill: #FFFFFF;\n",
              "    }\n",
              "  </style>\n",
              "\n",
              "      <script>\n",
              "        const buttonEl =\n",
              "          document.querySelector('#df-016b80ce-0129-4ef4-bac0-956b8bbe6369 button.colab-df-convert');\n",
              "        buttonEl.style.display =\n",
              "          google.colab.kernel.accessAllowed ? 'block' : 'none';\n",
              "\n",
              "        async function convertToInteractive(key) {\n",
              "          const element = document.querySelector('#df-016b80ce-0129-4ef4-bac0-956b8bbe6369');\n",
              "          const dataTable =\n",
              "            await google.colab.kernel.invokeFunction('convertToInteractive',\n",
              "                                                     [key], {});\n",
              "          if (!dataTable) return;\n",
              "\n",
              "          const docLinkHtml = 'Like what you see? Visit the ' +\n",
              "            '<a target=\"_blank\" href=https://colab.research.google.com/notebooks/data_table.ipynb>data table notebook</a>'\n",
              "            + ' to learn more about interactive tables.';\n",
              "          element.innerHTML = '';\n",
              "          dataTable['output_type'] = 'display_data';\n",
              "          await google.colab.output.renderOutput(dataTable, element);\n",
              "          const docLink = document.createElement('div');\n",
              "          docLink.innerHTML = docLinkHtml;\n",
              "          element.appendChild(docLink);\n",
              "        }\n",
              "      </script>\n",
              "    </div>\n",
              "  </div>\n",
              "  "
            ]
          },
          "metadata": {},
          "execution_count": 29
        }
      ]
    },
    {
      "cell_type": "code",
      "execution_count": 30,
      "metadata": {
        "colab": {
          "base_uri": "https://localhost:8080/",
          "height": 316
        },
        "id": "Js_NGOCxWkoT",
        "outputId": "39bd6685-bcc5-4af0-fe2e-8b5ac029ed4f"
      },
      "outputs": [
        {
          "output_type": "stream",
          "name": "stderr",
          "text": [
            "<ipython-input-30-f9aaa35fc63c>:6: SettingWithCopyWarning: \n",
            "A value is trying to be set on a copy of a slice from a DataFrame.\n",
            "Try using .loc[row_indexer,col_indexer] = value instead\n",
            "\n",
            "See the caveats in the documentation: https://pandas.pydata.org/pandas-docs/stable/user_guide/indexing.html#returning-a-view-versus-a-copy\n",
            "  dfe[\"cleanText\"] = cleanText1\n"
          ]
        },
        {
          "output_type": "execute_result",
          "data": {
            "text/plain": [
              "                           book_title                 author  \\\n",
              "0    Le Démon de la Colline aux Loups  Dimitri Rouchon-Borie   \n",
              "1                              Simple      Marie-Aude Murail   \n",
              "2  La plus secrète mémoire des hommes   Mohamed Mbougar Sarr   \n",
              "3                            Trancher      Amélie Cordonnier   \n",
              "4            La guerre d'Alan, tome 2       Emmanuel Guibert   \n",
              "\n",
              "                                       reader_review  rating  label  \\\n",
              "0  Ce n'est pas le premier roman à aborder les th...     5.0      1   \n",
              "1  Simple, alias Barnabé, est un jeune homme de 2...     4.0      1   \n",
              "2  Pour écrire La plus secrète mémoire des hommes...     4.0      1   \n",
              "3  « La violence d'Aurélien est revenue. Par la f...     3.5      0   \n",
              "4  Dans ce second album de La Guerre d’Alan, Emma...     5.0      1   \n",
              "\n",
              "                                           cleanText  \n",
              "0  ce n est pas le premier roman aborder les th m...  \n",
              "1  simple alias barnab est un jeune homme de ans ...  \n",
              "2  pour crire la plus secr te m moire des hommes ...  \n",
              "3   la violence d aur lien est revenue par la fen...  \n",
              "4  dans ce second album de la guerre d alan emman...  "
            ],
            "text/html": [
              "\n",
              "  <div id=\"df-94478305-f1fe-4162-b649-3cb6125637d7\">\n",
              "    <div class=\"colab-df-container\">\n",
              "      <div>\n",
              "<style scoped>\n",
              "    .dataframe tbody tr th:only-of-type {\n",
              "        vertical-align: middle;\n",
              "    }\n",
              "\n",
              "    .dataframe tbody tr th {\n",
              "        vertical-align: top;\n",
              "    }\n",
              "\n",
              "    .dataframe thead th {\n",
              "        text-align: right;\n",
              "    }\n",
              "</style>\n",
              "<table border=\"1\" class=\"dataframe\">\n",
              "  <thead>\n",
              "    <tr style=\"text-align: right;\">\n",
              "      <th></th>\n",
              "      <th>book_title</th>\n",
              "      <th>author</th>\n",
              "      <th>reader_review</th>\n",
              "      <th>rating</th>\n",
              "      <th>label</th>\n",
              "      <th>cleanText</th>\n",
              "    </tr>\n",
              "  </thead>\n",
              "  <tbody>\n",
              "    <tr>\n",
              "      <th>0</th>\n",
              "      <td>Le Démon de la Colline aux Loups</td>\n",
              "      <td>Dimitri Rouchon-Borie</td>\n",
              "      <td>Ce n'est pas le premier roman à aborder les th...</td>\n",
              "      <td>5.0</td>\n",
              "      <td>1</td>\n",
              "      <td>ce n est pas le premier roman aborder les th m...</td>\n",
              "    </tr>\n",
              "    <tr>\n",
              "      <th>1</th>\n",
              "      <td>Simple</td>\n",
              "      <td>Marie-Aude Murail</td>\n",
              "      <td>Simple, alias Barnabé, est un jeune homme de 2...</td>\n",
              "      <td>4.0</td>\n",
              "      <td>1</td>\n",
              "      <td>simple alias barnab est un jeune homme de ans ...</td>\n",
              "    </tr>\n",
              "    <tr>\n",
              "      <th>2</th>\n",
              "      <td>La plus secrète mémoire des hommes</td>\n",
              "      <td>Mohamed Mbougar Sarr</td>\n",
              "      <td>Pour écrire La plus secrète mémoire des hommes...</td>\n",
              "      <td>4.0</td>\n",
              "      <td>1</td>\n",
              "      <td>pour crire la plus secr te m moire des hommes ...</td>\n",
              "    </tr>\n",
              "    <tr>\n",
              "      <th>3</th>\n",
              "      <td>Trancher</td>\n",
              "      <td>Amélie Cordonnier</td>\n",
              "      <td>« La violence d'Aurélien est revenue. Par la f...</td>\n",
              "      <td>3.5</td>\n",
              "      <td>0</td>\n",
              "      <td>la violence d aur lien est revenue par la fen...</td>\n",
              "    </tr>\n",
              "    <tr>\n",
              "      <th>4</th>\n",
              "      <td>La guerre d'Alan, tome 2</td>\n",
              "      <td>Emmanuel Guibert</td>\n",
              "      <td>Dans ce second album de La Guerre d’Alan, Emma...</td>\n",
              "      <td>5.0</td>\n",
              "      <td>1</td>\n",
              "      <td>dans ce second album de la guerre d alan emman...</td>\n",
              "    </tr>\n",
              "  </tbody>\n",
              "</table>\n",
              "</div>\n",
              "      <button class=\"colab-df-convert\" onclick=\"convertToInteractive('df-94478305-f1fe-4162-b649-3cb6125637d7')\"\n",
              "              title=\"Convert this dataframe to an interactive table.\"\n",
              "              style=\"display:none;\">\n",
              "        \n",
              "  <svg xmlns=\"http://www.w3.org/2000/svg\" height=\"24px\"viewBox=\"0 0 24 24\"\n",
              "       width=\"24px\">\n",
              "    <path d=\"M0 0h24v24H0V0z\" fill=\"none\"/>\n",
              "    <path d=\"M18.56 5.44l.94 2.06.94-2.06 2.06-.94-2.06-.94-.94-2.06-.94 2.06-2.06.94zm-11 1L8.5 8.5l.94-2.06 2.06-.94-2.06-.94L8.5 2.5l-.94 2.06-2.06.94zm10 10l.94 2.06.94-2.06 2.06-.94-2.06-.94-.94-2.06-.94 2.06-2.06.94z\"/><path d=\"M17.41 7.96l-1.37-1.37c-.4-.4-.92-.59-1.43-.59-.52 0-1.04.2-1.43.59L10.3 9.45l-7.72 7.72c-.78.78-.78 2.05 0 2.83L4 21.41c.39.39.9.59 1.41.59.51 0 1.02-.2 1.41-.59l7.78-7.78 2.81-2.81c.8-.78.8-2.07 0-2.86zM5.41 20L4 18.59l7.72-7.72 1.47 1.35L5.41 20z\"/>\n",
              "  </svg>\n",
              "      </button>\n",
              "      \n",
              "  <style>\n",
              "    .colab-df-container {\n",
              "      display:flex;\n",
              "      flex-wrap:wrap;\n",
              "      gap: 12px;\n",
              "    }\n",
              "\n",
              "    .colab-df-convert {\n",
              "      background-color: #E8F0FE;\n",
              "      border: none;\n",
              "      border-radius: 50%;\n",
              "      cursor: pointer;\n",
              "      display: none;\n",
              "      fill: #1967D2;\n",
              "      height: 32px;\n",
              "      padding: 0 0 0 0;\n",
              "      width: 32px;\n",
              "    }\n",
              "\n",
              "    .colab-df-convert:hover {\n",
              "      background-color: #E2EBFA;\n",
              "      box-shadow: 0px 1px 2px rgba(60, 64, 67, 0.3), 0px 1px 3px 1px rgba(60, 64, 67, 0.15);\n",
              "      fill: #174EA6;\n",
              "    }\n",
              "\n",
              "    [theme=dark] .colab-df-convert {\n",
              "      background-color: #3B4455;\n",
              "      fill: #D2E3FC;\n",
              "    }\n",
              "\n",
              "    [theme=dark] .colab-df-convert:hover {\n",
              "      background-color: #434B5C;\n",
              "      box-shadow: 0px 1px 3px 1px rgba(0, 0, 0, 0.15);\n",
              "      filter: drop-shadow(0px 1px 2px rgba(0, 0, 0, 0.3));\n",
              "      fill: #FFFFFF;\n",
              "    }\n",
              "  </style>\n",
              "\n",
              "      <script>\n",
              "        const buttonEl =\n",
              "          document.querySelector('#df-94478305-f1fe-4162-b649-3cb6125637d7 button.colab-df-convert');\n",
              "        buttonEl.style.display =\n",
              "          google.colab.kernel.accessAllowed ? 'block' : 'none';\n",
              "\n",
              "        async function convertToInteractive(key) {\n",
              "          const element = document.querySelector('#df-94478305-f1fe-4162-b649-3cb6125637d7');\n",
              "          const dataTable =\n",
              "            await google.colab.kernel.invokeFunction('convertToInteractive',\n",
              "                                                     [key], {});\n",
              "          if (!dataTable) return;\n",
              "\n",
              "          const docLinkHtml = 'Like what you see? Visit the ' +\n",
              "            '<a target=\"_blank\" href=https://colab.research.google.com/notebooks/data_table.ipynb>data table notebook</a>'\n",
              "            + ' to learn more about interactive tables.';\n",
              "          element.innerHTML = '';\n",
              "          dataTable['output_type'] = 'display_data';\n",
              "          await google.colab.output.renderOutput(dataTable, element);\n",
              "          const docLink = document.createElement('div');\n",
              "          docLink.innerHTML = docLinkHtml;\n",
              "          element.appendChild(docLink);\n",
              "        }\n",
              "      </script>\n",
              "    </div>\n",
              "  </div>\n",
              "  "
            ]
          },
          "metadata": {},
          "execution_count": 30
        }
      ],
      "source": [
        "cleanText1=[]\n",
        "\n",
        "for t in dfe['reader_review']:\n",
        " cleanText1.append(text_cleaner1(t))\n",
        "\n",
        "dfe[\"cleanText\"] = cleanText1\n",
        "dfe.head()"
      ]
    },
    {
      "cell_type": "code",
      "execution_count": 33,
      "metadata": {
        "colab": {
          "base_uri": "https://localhost:8080/",
          "height": 206
        },
        "id": "u1At3wJzfMI1",
        "outputId": "469b7354-6dc1-48c7-d59f-e4b03fa3f29b"
      },
      "outputs": [
        {
          "output_type": "execute_result",
          "data": {
            "text/plain": [
              "                           book_title                 author  \\\n",
              "0    Le Démon de la Colline aux Loups  Dimitri Rouchon-Borie   \n",
              "1                              Simple      Marie-Aude Murail   \n",
              "2  La plus secrète mémoire des hommes   Mohamed Mbougar Sarr   \n",
              "3                            Trancher      Amélie Cordonnier   \n",
              "4            La guerre d'Alan, tome 2       Emmanuel Guibert   \n",
              "\n",
              "                                       reader_review  rating  label  \\\n",
              "0  Ce n'est pas le premier roman à aborder les th...     5.0      1   \n",
              "1  Simple, alias Barnabé, est un jeune homme de 2...     4.0      1   \n",
              "2  Pour écrire La plus secrète mémoire des hommes...     4.0      1   \n",
              "3  « La violence d'Aurélien est revenue. Par la f...     3.5      0   \n",
              "4  Dans ce second album de La Guerre d’Alan, Emma...     5.0      1   \n",
              "\n",
              "                                           cleanText     Label     Score  \n",
              "0  premier roman aborder th lourds inceste enfanc...  positive  0.968669  \n",
              "1  simple alias barnab jeune homme an a ge mental...  positive  0.799915  \n",
              "2  crire plus secr moire hommes mohamed mbougar s...  negative  0.804323  \n",
              "3  violence aur lien revenue fen tre peut tre bie...  negative  0.560064  \n",
              "4  second album guerre alan emmanuel guibert a fa...  positive  0.611250  "
            ],
            "text/html": [
              "\n",
              "  <div id=\"df-1c649067-27af-4c88-9950-8496162dd3b0\">\n",
              "    <div class=\"colab-df-container\">\n",
              "      <div>\n",
              "<style scoped>\n",
              "    .dataframe tbody tr th:only-of-type {\n",
              "        vertical-align: middle;\n",
              "    }\n",
              "\n",
              "    .dataframe tbody tr th {\n",
              "        vertical-align: top;\n",
              "    }\n",
              "\n",
              "    .dataframe thead th {\n",
              "        text-align: right;\n",
              "    }\n",
              "</style>\n",
              "<table border=\"1\" class=\"dataframe\">\n",
              "  <thead>\n",
              "    <tr style=\"text-align: right;\">\n",
              "      <th></th>\n",
              "      <th>book_title</th>\n",
              "      <th>author</th>\n",
              "      <th>reader_review</th>\n",
              "      <th>rating</th>\n",
              "      <th>label</th>\n",
              "      <th>cleanText</th>\n",
              "      <th>Label</th>\n",
              "      <th>Score</th>\n",
              "    </tr>\n",
              "  </thead>\n",
              "  <tbody>\n",
              "    <tr>\n",
              "      <th>0</th>\n",
              "      <td>Le Démon de la Colline aux Loups</td>\n",
              "      <td>Dimitri Rouchon-Borie</td>\n",
              "      <td>Ce n'est pas le premier roman à aborder les th...</td>\n",
              "      <td>5.0</td>\n",
              "      <td>1</td>\n",
              "      <td>premier roman aborder th lourds inceste enfanc...</td>\n",
              "      <td>positive</td>\n",
              "      <td>0.968669</td>\n",
              "    </tr>\n",
              "    <tr>\n",
              "      <th>1</th>\n",
              "      <td>Simple</td>\n",
              "      <td>Marie-Aude Murail</td>\n",
              "      <td>Simple, alias Barnabé, est un jeune homme de 2...</td>\n",
              "      <td>4.0</td>\n",
              "      <td>1</td>\n",
              "      <td>simple alias barnab jeune homme an a ge mental...</td>\n",
              "      <td>positive</td>\n",
              "      <td>0.799915</td>\n",
              "    </tr>\n",
              "    <tr>\n",
              "      <th>2</th>\n",
              "      <td>La plus secrète mémoire des hommes</td>\n",
              "      <td>Mohamed Mbougar Sarr</td>\n",
              "      <td>Pour écrire La plus secrète mémoire des hommes...</td>\n",
              "      <td>4.0</td>\n",
              "      <td>1</td>\n",
              "      <td>crire plus secr moire hommes mohamed mbougar s...</td>\n",
              "      <td>negative</td>\n",
              "      <td>0.804323</td>\n",
              "    </tr>\n",
              "    <tr>\n",
              "      <th>3</th>\n",
              "      <td>Trancher</td>\n",
              "      <td>Amélie Cordonnier</td>\n",
              "      <td>« La violence d'Aurélien est revenue. Par la f...</td>\n",
              "      <td>3.5</td>\n",
              "      <td>0</td>\n",
              "      <td>violence aur lien revenue fen tre peut tre bie...</td>\n",
              "      <td>negative</td>\n",
              "      <td>0.560064</td>\n",
              "    </tr>\n",
              "    <tr>\n",
              "      <th>4</th>\n",
              "      <td>La guerre d'Alan, tome 2</td>\n",
              "      <td>Emmanuel Guibert</td>\n",
              "      <td>Dans ce second album de La Guerre d’Alan, Emma...</td>\n",
              "      <td>5.0</td>\n",
              "      <td>1</td>\n",
              "      <td>second album guerre alan emmanuel guibert a fa...</td>\n",
              "      <td>positive</td>\n",
              "      <td>0.611250</td>\n",
              "    </tr>\n",
              "  </tbody>\n",
              "</table>\n",
              "</div>\n",
              "      <button class=\"colab-df-convert\" onclick=\"convertToInteractive('df-1c649067-27af-4c88-9950-8496162dd3b0')\"\n",
              "              title=\"Convert this dataframe to an interactive table.\"\n",
              "              style=\"display:none;\">\n",
              "        \n",
              "  <svg xmlns=\"http://www.w3.org/2000/svg\" height=\"24px\"viewBox=\"0 0 24 24\"\n",
              "       width=\"24px\">\n",
              "    <path d=\"M0 0h24v24H0V0z\" fill=\"none\"/>\n",
              "    <path d=\"M18.56 5.44l.94 2.06.94-2.06 2.06-.94-2.06-.94-.94-2.06-.94 2.06-2.06.94zm-11 1L8.5 8.5l.94-2.06 2.06-.94-2.06-.94L8.5 2.5l-.94 2.06-2.06.94zm10 10l.94 2.06.94-2.06 2.06-.94-2.06-.94-.94-2.06-.94 2.06-2.06.94z\"/><path d=\"M17.41 7.96l-1.37-1.37c-.4-.4-.92-.59-1.43-.59-.52 0-1.04.2-1.43.59L10.3 9.45l-7.72 7.72c-.78.78-.78 2.05 0 2.83L4 21.41c.39.39.9.59 1.41.59.51 0 1.02-.2 1.41-.59l7.78-7.78 2.81-2.81c.8-.78.8-2.07 0-2.86zM5.41 20L4 18.59l7.72-7.72 1.47 1.35L5.41 20z\"/>\n",
              "  </svg>\n",
              "      </button>\n",
              "      \n",
              "  <style>\n",
              "    .colab-df-container {\n",
              "      display:flex;\n",
              "      flex-wrap:wrap;\n",
              "      gap: 12px;\n",
              "    }\n",
              "\n",
              "    .colab-df-convert {\n",
              "      background-color: #E8F0FE;\n",
              "      border: none;\n",
              "      border-radius: 50%;\n",
              "      cursor: pointer;\n",
              "      display: none;\n",
              "      fill: #1967D2;\n",
              "      height: 32px;\n",
              "      padding: 0 0 0 0;\n",
              "      width: 32px;\n",
              "    }\n",
              "\n",
              "    .colab-df-convert:hover {\n",
              "      background-color: #E2EBFA;\n",
              "      box-shadow: 0px 1px 2px rgba(60, 64, 67, 0.3), 0px 1px 3px 1px rgba(60, 64, 67, 0.15);\n",
              "      fill: #174EA6;\n",
              "    }\n",
              "\n",
              "    [theme=dark] .colab-df-convert {\n",
              "      background-color: #3B4455;\n",
              "      fill: #D2E3FC;\n",
              "    }\n",
              "\n",
              "    [theme=dark] .colab-df-convert:hover {\n",
              "      background-color: #434B5C;\n",
              "      box-shadow: 0px 1px 3px 1px rgba(0, 0, 0, 0.15);\n",
              "      filter: drop-shadow(0px 1px 2px rgba(0, 0, 0, 0.3));\n",
              "      fill: #FFFFFF;\n",
              "    }\n",
              "  </style>\n",
              "\n",
              "      <script>\n",
              "        const buttonEl =\n",
              "          document.querySelector('#df-1c649067-27af-4c88-9950-8496162dd3b0 button.colab-df-convert');\n",
              "        buttonEl.style.display =\n",
              "          google.colab.kernel.accessAllowed ? 'block' : 'none';\n",
              "\n",
              "        async function convertToInteractive(key) {\n",
              "          const element = document.querySelector('#df-1c649067-27af-4c88-9950-8496162dd3b0');\n",
              "          const dataTable =\n",
              "            await google.colab.kernel.invokeFunction('convertToInteractive',\n",
              "                                                     [key], {});\n",
              "          if (!dataTable) return;\n",
              "\n",
              "          const docLinkHtml = 'Like what you see? Visit the ' +\n",
              "            '<a target=\"_blank\" href=https://colab.research.google.com/notebooks/data_table.ipynb>data table notebook</a>'\n",
              "            + ' to learn more about interactive tables.';\n",
              "          element.innerHTML = '';\n",
              "          dataTable['output_type'] = 'display_data';\n",
              "          await google.colab.output.renderOutput(dataTable, element);\n",
              "          const docLink = document.createElement('div');\n",
              "          docLink.innerHTML = docLinkHtml;\n",
              "          element.appendChild(docLink);\n",
              "        }\n",
              "      </script>\n",
              "    </div>\n",
              "  </div>\n",
              "  "
            ]
          },
          "metadata": {},
          "execution_count": 33
        }
      ],
      "source": [
        "df.head()"
      ]
    },
    {
      "cell_type": "code",
      "source": [
        "pip install vaderSentiment-fr"
      ],
      "metadata": {
        "colab": {
          "base_uri": "https://localhost:8080/"
        },
        "id": "s1oNk-LJ79Pu",
        "outputId": "eda37c00-bcb5-4bf8-8841-74bd438a6c77"
      },
      "execution_count": 75,
      "outputs": [
        {
          "output_type": "stream",
          "name": "stdout",
          "text": [
            "Looking in indexes: https://pypi.org/simple, https://us-python.pkg.dev/colab-wheels/public/simple/\n",
            "Collecting vaderSentiment-fr\n",
            "  Downloading vaderSentiment_fr-1.3.4.tar.gz (187 kB)\n",
            "\u001b[K     |████████████████████████████████| 187 kB 8.8 MB/s \n",
            "\u001b[?25hCollecting unidecode\n",
            "  Downloading Unidecode-1.3.6-py3-none-any.whl (235 kB)\n",
            "\u001b[K     |████████████████████████████████| 235 kB 39.7 MB/s \n",
            "\u001b[?25hCollecting fuzzywuzzy\n",
            "  Downloading fuzzywuzzy-0.18.0-py2.py3-none-any.whl (18 kB)\n",
            "Building wheels for collected packages: vaderSentiment-fr\n",
            "  Building wheel for vaderSentiment-fr (setup.py) ... \u001b[?25l\u001b[?25hdone\n",
            "  Created wheel for vaderSentiment-fr: filename=vaderSentiment_fr-1.3.4-py3-none-any.whl size=185986 sha256=0422d56d8f951d6f04f4b473d43a7055318a6af1a8ef55470ffc9b980e17ec12\n",
            "  Stored in directory: /root/.cache/pip/wheels/a6/a6/8b/6f8461bbebec0a38f5068fc8331472b4a2ae7d614bb3ec2f71\n",
            "Successfully built vaderSentiment-fr\n",
            "Installing collected packages: unidecode, fuzzywuzzy, vaderSentiment-fr\n",
            "Successfully installed fuzzywuzzy-0.18.0 unidecode-1.3.6 vaderSentiment-fr-1.3.4\n"
          ]
        }
      ]
    },
    {
      "cell_type": "code",
      "source": [
        "from vaderSentiment_fr.vaderSentiment import SentimentIntensityAnalyzer\n",
        "SIA = SentimentIntensityAnalyzer()"
      ],
      "metadata": {
        "colab": {
          "base_uri": "https://localhost:8080/"
        },
        "id": "SrdrwYRg8BxP",
        "outputId": "f422b93e-d0f7-4c18-9515-ac1602ae08f3"
      },
      "execution_count": 76,
      "outputs": [
        {
          "output_type": "stream",
          "name": "stderr",
          "text": [
            "/usr/local/lib/python3.8/dist-packages/fuzzywuzzy/fuzz.py:11: UserWarning: Using slow pure-python SequenceMatcher. Install python-Levenshtein to remove this warning\n",
            "  warnings.warn('Using slow pure-python SequenceMatcher. Install python-Levenshtein to remove this warning')\n"
          ]
        }
      ]
    },
    {
      "cell_type": "code",
      "source": [
        "phrase = \"Une phrase très cool à analyser\"\n",
        "score = SIA.polarity_scores(phrase)"
      ],
      "metadata": {
        "id": "Bh30G5kt8Ex6"
      },
      "execution_count": 78,
      "outputs": []
    },
    {
      "cell_type": "code",
      "source": [
        "score"
      ],
      "metadata": {
        "colab": {
          "base_uri": "https://localhost:8080/"
        },
        "id": "EakZ4UlT8RE3",
        "outputId": "fd9c0767-8042-48df-83d2-73e2dea9f803"
      },
      "execution_count": 79,
      "outputs": [
        {
          "output_type": "execute_result",
          "data": {
            "text/plain": [
              "{'neg': 0.0, 'neu': 0.725, 'pos': 0.275, 'compound': 0.2247}"
            ]
          },
          "metadata": {},
          "execution_count": 79
        }
      ]
    },
    {
      "cell_type": "code",
      "source": [
        "analyzer = SentimentIntensityAnalyzer()\n",
        "dfe['compound'] = [analyzer.polarity_scores(x)['compound'] for x in df['cleanText']]\n",
        "dfe['neg'] = [analyzer.polarity_scores(x)['neg'] for x in df['cleanText']]\n",
        "dfe['neu'] = [analyzer.polarity_scores(x)['neu'] for x in df['cleanText']]\n",
        "dfe['pos'] = [analyzer.polarity_scores(x)['pos'] for x in df['cleanText']]"
      ],
      "metadata": {
        "colab": {
          "base_uri": "https://localhost:8080/"
        },
        "id": "UZs3zsnZ8TFS",
        "outputId": "9ce9e59a-f89e-41c5-baaa-744d4a814f14"
      },
      "execution_count": 80,
      "outputs": [
        {
          "output_type": "stream",
          "name": "stderr",
          "text": [
            "<ipython-input-80-9b861e51c79d>:2: SettingWithCopyWarning: \n",
            "A value is trying to be set on a copy of a slice from a DataFrame.\n",
            "Try using .loc[row_indexer,col_indexer] = value instead\n",
            "\n",
            "See the caveats in the documentation: https://pandas.pydata.org/pandas-docs/stable/user_guide/indexing.html#returning-a-view-versus-a-copy\n",
            "  dfe['compound'] = [analyzer.polarity_scores(x)['compound'] for x in df['cleanText']]\n"
          ]
        }
      ]
    },
    {
      "cell_type": "code",
      "source": [
        "# Compound VADER Plot\n",
        "ax = sns.barplot(data=dfe, x='rating', y='compound')\n",
        "ax.set_title('Compound Score by rating')\n",
        "plt.show()"
      ],
      "metadata": {
        "colab": {
          "base_uri": "https://localhost:8080/",
          "height": 295
        },
        "id": "FfBUi3vZA0IQ",
        "outputId": "482a3187-a49d-4685-ecac-2bc1a84e15f7"
      },
      "execution_count": 100,
      "outputs": [
        {
          "output_type": "display_data",
          "data": {
            "text/plain": [
              "<Figure size 432x288 with 1 Axes>"
            ],
            "image/png": "[encoded data removed]"
          },
          "metadata": {
            "needs_background": "light"
          }
        }
      ]
    },
    {
      "cell_type": "markdown",
      "source": [
        "As we can see that the compound score is fluctuating highly and the most positive comments have the most negative compound score."
      ],
      "metadata": {
        "id": "ERaXxO-3DUF7"
      }
    },
    {
      "cell_type": "code",
      "source": [
        "# Positive, Negative and Neutral plot for the VADER sentiment analysis\n",
        "fig, axs = plt.subplots(1, 3, figsize=(12, 3))\n",
        "sns.barplot(data=dfe, x='rating', y='pos', ax=axs[0])\n",
        "sns.barplot(data=dfe, x='rating', y='neu', ax=axs[1])\n",
        "sns.barplot(data=dfe, x='rating', y='neg', ax=axs[2])\n",
        "axs[0].set_title('Positive')\n",
        "axs[1].set_title('Neutral')\n",
        "axs[2].set_title('Negative')\n",
        "plt.tight_layout()\n",
        "plt.show()"
      ],
      "metadata": {
        "colab": {
          "base_uri": "https://localhost:8080/",
          "height": 225
        },
        "id": "ZY3azrL6AjHm",
        "outputId": "3c4f1e41-b3b7-4eb8-e5da-99e4652ef709"
      },
      "execution_count": 97,
      "outputs": [
        {
          "output_type": "display_data",
          "data": {
            "text/plain": [
              "<Figure size 864x216 with 3 Axes>"
            ],
            "image/png": "[encoded data removed]"
          },
          "metadata": {
            "needs_background": "light"
          }
        }
      ]
    },
    {
      "cell_type": "markdown",
      "source": [
        "So, here we can see that the positive words are the highest and for the negative words even though the rating is 5 star there is high level of negative words. "
      ],
      "metadata": {
        "id": "4-78GOBGCqJD"
      }
    },
    {
      "cell_type": "code",
      "source": [
        "dfe.head()"
      ],
      "metadata": {
        "colab": {
          "base_uri": "https://localhost:8080/",
          "height": 206
        },
        "id": "gTNwnFdd86RM",
        "outputId": "68d228be-4300-411d-dca8-367ae6c8afa6"
      },
      "execution_count": 81,
      "outputs": [
        {
          "output_type": "execute_result",
          "data": {
            "text/plain": [
              "                           book_title                 author  \\\n",
              "0    Le Démon de la Colline aux Loups  Dimitri Rouchon-Borie   \n",
              "1                              Simple      Marie-Aude Murail   \n",
              "2  La plus secrète mémoire des hommes   Mohamed Mbougar Sarr   \n",
              "3                            Trancher      Amélie Cordonnier   \n",
              "4            La guerre d'Alan, tome 2       Emmanuel Guibert   \n",
              "\n",
              "                                       reader_review  rating  label  \\\n",
              "0  Ce n'est pas le premier roman à aborder les th...     5.0      1   \n",
              "1  Simple, alias Barnabé, est un jeune homme de 2...     4.0      1   \n",
              "2  Pour écrire La plus secrète mémoire des hommes...     4.0      1   \n",
              "3  « La violence d'Aurélien est revenue. Par la f...     3.5      0   \n",
              "4  Dans ce second album de La Guerre d’Alan, Emma...     5.0      1   \n",
              "\n",
              "                                           cleanText  compound    neg    neu  \\\n",
              "0  ce n est pas le premier roman aborder les th m...   -0.0516  0.187  0.663   \n",
              "1  simple alias barnab est un jeune homme de ans ...   -0.9430  0.241  0.741   \n",
              "2  pour crire la plus secr te m moire des hommes ...    0.0772  0.106  0.753   \n",
              "3   la violence d aur lien est revenue par la fen...   -0.8824  0.258  0.580   \n",
              "4  dans ce second album de la guerre d alan emman...   -0.6249  0.203  0.797   \n",
              "\n",
              "     pos  \n",
              "0  0.150  \n",
              "1  0.018  \n",
              "2  0.140  \n",
              "3  0.162  \n",
              "4  0.000  "
            ],
            "text/html": [
              "\n",
              "  <div id=\"df-e3361df5-4ed9-417a-93f5-b9fa4772d62d\">\n",
              "    <div class=\"colab-df-container\">\n",
              "      <div>\n",
              "<style scoped>\n",
              "    .dataframe tbody tr th:only-of-type {\n",
              "        vertical-align: middle;\n",
              "    }\n",
              "\n",
              "    .dataframe tbody tr th {\n",
              "        vertical-align: top;\n",
              "    }\n",
              "\n",
              "    .dataframe thead th {\n",
              "        text-align: right;\n",
              "    }\n",
              "</style>\n",
              "<table border=\"1\" class=\"dataframe\">\n",
              "  <thead>\n",
              "    <tr style=\"text-align: right;\">\n",
              "      <th></th>\n",
              "      <th>book_title</th>\n",
              "      <th>author</th>\n",
              "      <th>reader_review</th>\n",
              "      <th>rating</th>\n",
              "      <th>label</th>\n",
              "      <th>cleanText</th>\n",
              "      <th>compound</th>\n",
              "      <th>neg</th>\n",
              "      <th>neu</th>\n",
              "      <th>pos</th>\n",
              "    </tr>\n",
              "  </thead>\n",
              "  <tbody>\n",
              "    <tr>\n",
              "      <th>0</th>\n",
              "      <td>Le Démon de la Colline aux Loups</td>\n",
              "      <td>Dimitri Rouchon-Borie</td>\n",
              "      <td>Ce n'est pas le premier roman à aborder les th...</td>\n",
              "      <td>5.0</td>\n",
              "      <td>1</td>\n",
              "      <td>ce n est pas le premier roman aborder les th m...</td>\n",
              "      <td>-0.0516</td>\n",
              "      <td>0.187</td>\n",
              "      <td>0.663</td>\n",
              "      <td>0.150</td>\n",
              "    </tr>\n",
              "    <tr>\n",
              "      <th>1</th>\n",
              "      <td>Simple</td>\n",
              "      <td>Marie-Aude Murail</td>\n",
              "      <td>Simple, alias Barnabé, est un jeune homme de 2...</td>\n",
              "      <td>4.0</td>\n",
              "      <td>1</td>\n",
              "      <td>simple alias barnab est un jeune homme de ans ...</td>\n",
              "      <td>-0.9430</td>\n",
              "      <td>0.241</td>\n",
              "      <td>0.741</td>\n",
              "      <td>0.018</td>\n",
              "    </tr>\n",
              "    <tr>\n",
              "      <th>2</th>\n",
              "      <td>La plus secrète mémoire des hommes</td>\n",
              "      <td>Mohamed Mbougar Sarr</td>\n",
              "      <td>Pour écrire La plus secrète mémoire des hommes...</td>\n",
              "      <td>4.0</td>\n",
              "      <td>1</td>\n",
              "      <td>pour crire la plus secr te m moire des hommes ...</td>\n",
              "      <td>0.0772</td>\n",
              "      <td>0.106</td>\n",
              "      <td>0.753</td>\n",
              "      <td>0.140</td>\n",
              "    </tr>\n",
              "    <tr>\n",
              "      <th>3</th>\n",
              "      <td>Trancher</td>\n",
              "      <td>Amélie Cordonnier</td>\n",
              "      <td>« La violence d'Aurélien est revenue. Par la f...</td>\n",
              "      <td>3.5</td>\n",
              "      <td>0</td>\n",
              "      <td>la violence d aur lien est revenue par la fen...</td>\n",
              "      <td>-0.8824</td>\n",
              "      <td>0.258</td>\n",
              "      <td>0.580</td>\n",
              "      <td>0.162</td>\n",
              "    </tr>\n",
              "    <tr>\n",
              "      <th>4</th>\n",
              "      <td>La guerre d'Alan, tome 2</td>\n",
              "      <td>Emmanuel Guibert</td>\n",
              "      <td>Dans ce second album de La Guerre d’Alan, Emma...</td>\n",
              "      <td>5.0</td>\n",
              "      <td>1</td>\n",
              "      <td>dans ce second album de la guerre d alan emman...</td>\n",
              "      <td>-0.6249</td>\n",
              "      <td>0.203</td>\n",
              "      <td>0.797</td>\n",
              "      <td>0.000</td>\n",
              "    </tr>\n",
              "  </tbody>\n",
              "</table>\n",
              "</div>\n",
              "      <button class=\"colab-df-convert\" onclick=\"convertToInteractive('df-e3361df5-4ed9-417a-93f5-b9fa4772d62d')\"\n",
              "              title=\"Convert this dataframe to an interactive table.\"\n",
              "              style=\"display:none;\">\n",
              "        \n",
              "  <svg xmlns=\"http://www.w3.org/2000/svg\" height=\"24px\"viewBox=\"0 0 24 24\"\n",
              "       width=\"24px\">\n",
              "    <path d=\"M0 0h24v24H0V0z\" fill=\"none\"/>\n",
              "    <path d=\"M18.56 5.44l.94 2.06.94-2.06 2.06-.94-2.06-.94-.94-2.06-.94 2.06-2.06.94zm-11 1L8.5 8.5l.94-2.06 2.06-.94-2.06-.94L8.5 2.5l-.94 2.06-2.06.94zm10 10l.94 2.06.94-2.06 2.06-.94-2.06-.94-.94-2.06-.94 2.06-2.06.94z\"/><path d=\"M17.41 7.96l-1.37-1.37c-.4-.4-.92-.59-1.43-.59-.52 0-1.04.2-1.43.59L10.3 9.45l-7.72 7.72c-.78.78-.78 2.05 0 2.83L4 21.41c.39.39.9.59 1.41.59.51 0 1.02-.2 1.41-.59l7.78-7.78 2.81-2.81c.8-.78.8-2.07 0-2.86zM5.41 20L4 18.59l7.72-7.72 1.47 1.35L5.41 20z\"/>\n",
              "  </svg>\n",
              "      </button>\n",
              "      \n",
              "  <style>\n",
              "    .colab-df-container {\n",
              "      display:flex;\n",
              "      flex-wrap:wrap;\n",
              "      gap: 12px;\n",
              "    }\n",
              "\n",
              "    .colab-df-convert {\n",
              "      background-color: #E8F0FE;\n",
              "      border: none;\n",
              "      border-radius: 50%;\n",
              "      cursor: pointer;\n",
              "      display: none;\n",
              "      fill: #1967D2;\n",
              "      height: 32px;\n",
              "      padding: 0 0 0 0;\n",
              "      width: 32px;\n",
              "    }\n",
              "\n",
              "    .colab-df-convert:hover {\n",
              "      background-color: #E2EBFA;\n",
              "      box-shadow: 0px 1px 2px rgba(60, 64, 67, 0.3), 0px 1px 3px 1px rgba(60, 64, 67, 0.15);\n",
              "      fill: #174EA6;\n",
              "    }\n",
              "\n",
              "    [theme=dark] .colab-df-convert {\n",
              "      background-color: #3B4455;\n",
              "      fill: #D2E3FC;\n",
              "    }\n",
              "\n",
              "    [theme=dark] .colab-df-convert:hover {\n",
              "      background-color: #434B5C;\n",
              "      box-shadow: 0px 1px 3px 1px rgba(0, 0, 0, 0.15);\n",
              "      filter: drop-shadow(0px 1px 2px rgba(0, 0, 0, 0.3));\n",
              "      fill: #FFFFFF;\n",
              "    }\n",
              "  </style>\n",
              "\n",
              "      <script>\n",
              "        const buttonEl =\n",
              "          document.querySelector('#df-e3361df5-4ed9-417a-93f5-b9fa4772d62d button.colab-df-convert');\n",
              "        buttonEl.style.display =\n",
              "          google.colab.kernel.accessAllowed ? 'block' : 'none';\n",
              "\n",
              "        async function convertToInteractive(key) {\n",
              "          const element = document.querySelector('#df-e3361df5-4ed9-417a-93f5-b9fa4772d62d');\n",
              "          const dataTable =\n",
              "            await google.colab.kernel.invokeFunction('convertToInteractive',\n",
              "                                                     [key], {});\n",
              "          if (!dataTable) return;\n",
              "\n",
              "          const docLinkHtml = 'Like what you see? Visit the ' +\n",
              "            '<a target=\"_blank\" href=https://colab.research.google.com/notebooks/data_table.ipynb>data table notebook</a>'\n",
              "            + ' to learn more about interactive tables.';\n",
              "          element.innerHTML = '';\n",
              "          dataTable['output_type'] = 'display_data';\n",
              "          await google.colab.output.renderOutput(dataTable, element);\n",
              "          const docLink = document.createElement('div');\n",
              "          docLink.innerHTML = docLinkHtml;\n",
              "          element.appendChild(docLink);\n",
              "        }\n",
              "      </script>\n",
              "    </div>\n",
              "  </div>\n",
              "  "
            ]
          },
          "metadata": {},
          "execution_count": 81
        }
      ]
    },
    {
      "cell_type": "code",
      "source": [
        "df.head()"
      ],
      "metadata": {
        "colab": {
          "base_uri": "https://localhost:8080/",
          "height": 206
        },
        "id": "u3vRHJIo8-j1",
        "outputId": "a98d2551-93f2-4e69-9986-5e07eeb1e610"
      },
      "execution_count": 82,
      "outputs": [
        {
          "output_type": "execute_result",
          "data": {
            "text/plain": [
              "                           book_title                 author  \\\n",
              "0    Le Démon de la Colline aux Loups  Dimitri Rouchon-Borie   \n",
              "1                              Simple      Marie-Aude Murail   \n",
              "2  La plus secrète mémoire des hommes   Mohamed Mbougar Sarr   \n",
              "3                            Trancher      Amélie Cordonnier   \n",
              "4            La guerre d'Alan, tome 2       Emmanuel Guibert   \n",
              "\n",
              "                                       reader_review  rating  label  \\\n",
              "0  Ce n'est pas le premier roman à aborder les th...     5.0      1   \n",
              "1  Simple, alias Barnabé, est un jeune homme de 2...     4.0      1   \n",
              "2  Pour écrire La plus secrète mémoire des hommes...     4.0      1   \n",
              "3  « La violence d'Aurélien est revenue. Par la f...     3.5      0   \n",
              "4  Dans ce second album de La Guerre d’Alan, Emma...     5.0      1   \n",
              "\n",
              "                                           cleanText     Label     Score  \n",
              "0  premier roman aborder th lourds inceste enfanc...  positive  0.968669  \n",
              "1  simple alias barnab jeune homme an a ge mental...  positive  0.799915  \n",
              "2  crire plus secr moire hommes mohamed mbougar s...  negative  0.804323  \n",
              "3  violence aur lien revenue fen tre peut tre bie...  negative  0.560064  \n",
              "4  second album guerre alan emmanuel guibert a fa...  positive  0.611250  "
            ],
            "text/html": [
              "\n",
              "  <div id=\"df-de63328e-6d6b-465b-9a08-6d58056d7049\">\n",
              "    <div class=\"colab-df-container\">\n",
              "      <div>\n",
              "<style scoped>\n",
              "    .dataframe tbody tr th:only-of-type {\n",
              "        vertical-align: middle;\n",
              "    }\n",
              "\n",
              "    .dataframe tbody tr th {\n",
              "        vertical-align: top;\n",
              "    }\n",
              "\n",
              "    .dataframe thead th {\n",
              "        text-align: right;\n",
              "    }\n",
              "</style>\n",
              "<table border=\"1\" class=\"dataframe\">\n",
              "  <thead>\n",
              "    <tr style=\"text-align: right;\">\n",
              "      <th></th>\n",
              "      <th>book_title</th>\n",
              "      <th>author</th>\n",
              "      <th>reader_review</th>\n",
              "      <th>rating</th>\n",
              "      <th>label</th>\n",
              "      <th>cleanText</th>\n",
              "      <th>Label</th>\n",
              "      <th>Score</th>\n",
              "    </tr>\n",
              "  </thead>\n",
              "  <tbody>\n",
              "    <tr>\n",
              "      <th>0</th>\n",
              "      <td>Le Démon de la Colline aux Loups</td>\n",
              "      <td>Dimitri Rouchon-Borie</td>\n",
              "      <td>Ce n'est pas le premier roman à aborder les th...</td>\n",
              "      <td>5.0</td>\n",
              "      <td>1</td>\n",
              "      <td>premier roman aborder th lourds inceste enfanc...</td>\n",
              "      <td>positive</td>\n",
              "      <td>0.968669</td>\n",
              "    </tr>\n",
              "    <tr>\n",
              "      <th>1</th>\n",
              "      <td>Simple</td>\n",
              "      <td>Marie-Aude Murail</td>\n",
              "      <td>Simple, alias Barnabé, est un jeune homme de 2...</td>\n",
              "      <td>4.0</td>\n",
              "      <td>1</td>\n",
              "      <td>simple alias barnab jeune homme an a ge mental...</td>\n",
              "      <td>positive</td>\n",
              "      <td>0.799915</td>\n",
              "    </tr>\n",
              "    <tr>\n",
              "      <th>2</th>\n",
              "      <td>La plus secrète mémoire des hommes</td>\n",
              "      <td>Mohamed Mbougar Sarr</td>\n",
              "      <td>Pour écrire La plus secrète mémoire des hommes...</td>\n",
              "      <td>4.0</td>\n",
              "      <td>1</td>\n",
              "      <td>crire plus secr moire hommes mohamed mbougar s...</td>\n",
              "      <td>negative</td>\n",
              "      <td>0.804323</td>\n",
              "    </tr>\n",
              "    <tr>\n",
              "      <th>3</th>\n",
              "      <td>Trancher</td>\n",
              "      <td>Amélie Cordonnier</td>\n",
              "      <td>« La violence d'Aurélien est revenue. Par la f...</td>\n",
              "      <td>3.5</td>\n",
              "      <td>0</td>\n",
              "      <td>violence aur lien revenue fen tre peut tre bie...</td>\n",
              "      <td>negative</td>\n",
              "      <td>0.560064</td>\n",
              "    </tr>\n",
              "    <tr>\n",
              "      <th>4</th>\n",
              "      <td>La guerre d'Alan, tome 2</td>\n",
              "      <td>Emmanuel Guibert</td>\n",
              "      <td>Dans ce second album de La Guerre d’Alan, Emma...</td>\n",
              "      <td>5.0</td>\n",
              "      <td>1</td>\n",
              "      <td>second album guerre alan emmanuel guibert a fa...</td>\n",
              "      <td>positive</td>\n",
              "      <td>0.611250</td>\n",
              "    </tr>\n",
              "  </tbody>\n",
              "</table>\n",
              "</div>\n",
              "      <button class=\"colab-df-convert\" onclick=\"convertToInteractive('df-de63328e-6d6b-465b-9a08-6d58056d7049')\"\n",
              "              title=\"Convert this dataframe to an interactive table.\"\n",
              "              style=\"display:none;\">\n",
              "        \n",
              "  <svg xmlns=\"http://www.w3.org/2000/svg\" height=\"24px\"viewBox=\"0 0 24 24\"\n",
              "       width=\"24px\">\n",
              "    <path d=\"M0 0h24v24H0V0z\" fill=\"none\"/>\n",
              "    <path d=\"M18.56 5.44l.94 2.06.94-2.06 2.06-.94-2.06-.94-.94-2.06-.94 2.06-2.06.94zm-11 1L8.5 8.5l.94-2.06 2.06-.94-2.06-.94L8.5 2.5l-.94 2.06-2.06.94zm10 10l.94 2.06.94-2.06 2.06-.94-2.06-.94-.94-2.06-.94 2.06-2.06.94z\"/><path d=\"M17.41 7.96l-1.37-1.37c-.4-.4-.92-.59-1.43-.59-.52 0-1.04.2-1.43.59L10.3 9.45l-7.72 7.72c-.78.78-.78 2.05 0 2.83L4 21.41c.39.39.9.59 1.41.59.51 0 1.02-.2 1.41-.59l7.78-7.78 2.81-2.81c.8-.78.8-2.07 0-2.86zM5.41 20L4 18.59l7.72-7.72 1.47 1.35L5.41 20z\"/>\n",
              "  </svg>\n",
              "      </button>\n",
              "      \n",
              "  <style>\n",
              "    .colab-df-container {\n",
              "      display:flex;\n",
              "      flex-wrap:wrap;\n",
              "      gap: 12px;\n",
              "    }\n",
              "\n",
              "    .colab-df-convert {\n",
              "      background-color: #E8F0FE;\n",
              "      border: none;\n",
              "      border-radius: 50%;\n",
              "      cursor: pointer;\n",
              "      display: none;\n",
              "      fill: #1967D2;\n",
              "      height: 32px;\n",
              "      padding: 0 0 0 0;\n",
              "      width: 32px;\n",
              "    }\n",
              "\n",
              "    .colab-df-convert:hover {\n",
              "      background-color: #E2EBFA;\n",
              "      box-shadow: 0px 1px 2px rgba(60, 64, 67, 0.3), 0px 1px 3px 1px rgba(60, 64, 67, 0.15);\n",
              "      fill: #174EA6;\n",
              "    }\n",
              "\n",
              "    [theme=dark] .colab-df-convert {\n",
              "      background-color: #3B4455;\n",
              "      fill: #D2E3FC;\n",
              "    }\n",
              "\n",
              "    [theme=dark] .colab-df-convert:hover {\n",
              "      background-color: #434B5C;\n",
              "      box-shadow: 0px 1px 3px 1px rgba(0, 0, 0, 0.15);\n",
              "      filter: drop-shadow(0px 1px 2px rgba(0, 0, 0, 0.3));\n",
              "      fill: #FFFFFF;\n",
              "    }\n",
              "  </style>\n",
              "\n",
              "      <script>\n",
              "        const buttonEl =\n",
              "          document.querySelector('#df-de63328e-6d6b-465b-9a08-6d58056d7049 button.colab-df-convert');\n",
              "        buttonEl.style.display =\n",
              "          google.colab.kernel.accessAllowed ? 'block' : 'none';\n",
              "\n",
              "        async function convertToInteractive(key) {\n",
              "          const element = document.querySelector('#df-de63328e-6d6b-465b-9a08-6d58056d7049');\n",
              "          const dataTable =\n",
              "            await google.colab.kernel.invokeFunction('convertToInteractive',\n",
              "                                                     [key], {});\n",
              "          if (!dataTable) return;\n",
              "\n",
              "          const docLinkHtml = 'Like what you see? Visit the ' +\n",
              "            '<a target=\"_blank\" href=https://colab.research.google.com/notebooks/data_table.ipynb>data table notebook</a>'\n",
              "            + ' to learn more about interactive tables.';\n",
              "          element.innerHTML = '';\n",
              "          dataTable['output_type'] = 'display_data';\n",
              "          await google.colab.output.renderOutput(dataTable, element);\n",
              "          const docLink = document.createElement('div');\n",
              "          docLink.innerHTML = docLinkHtml;\n",
              "          element.appendChild(docLink);\n",
              "        }\n",
              "      </script>\n",
              "    </div>\n",
              "  </div>\n",
              "  "
            ]
          },
          "metadata": {},
          "execution_count": 82
        }
      ]
    },
    {
      "cell_type": "code",
      "source": [
        "pip install -U textblob-fr"
      ],
      "metadata": {
        "colab": {
          "base_uri": "https://localhost:8080/"
        },
        "id": "OWUvX-wC9DbA",
        "outputId": "f1f90d27-476e-49ac-c87b-069c6fae3970"
      },
      "execution_count": 83,
      "outputs": [
        {
          "output_type": "stream",
          "name": "stdout",
          "text": [
            "Looking in indexes: https://pypi.org/simple, https://us-python.pkg.dev/colab-wheels/public/simple/\n",
            "Collecting textblob-fr\n",
            "  Downloading textblob_fr-0.2.0-py2.py3-none-any.whl (561 kB)\n",
            "\u001b[K     |████████████████████████████████| 561 kB 7.0 MB/s \n",
            "\u001b[?25hRequirement already satisfied: textblob>=0.8.0 in /usr/local/lib/python3.8/dist-packages (from textblob-fr) (0.15.3)\n",
            "Requirement already satisfied: nltk>=3.1 in /usr/local/lib/python3.8/dist-packages (from textblob>=0.8.0->textblob-fr) (3.7)\n",
            "Requirement already satisfied: regex>=2021.8.3 in /usr/local/lib/python3.8/dist-packages (from nltk>=3.1->textblob>=0.8.0->textblob-fr) (2022.6.2)\n",
            "Requirement already satisfied: joblib in /usr/local/lib/python3.8/dist-packages (from nltk>=3.1->textblob>=0.8.0->textblob-fr) (1.2.0)\n",
            "Requirement already satisfied: tqdm in /usr/local/lib/python3.8/dist-packages (from nltk>=3.1->textblob>=0.8.0->textblob-fr) (4.64.1)\n",
            "Requirement already satisfied: click in /usr/local/lib/python3.8/dist-packages (from nltk>=3.1->textblob>=0.8.0->textblob-fr) (7.1.2)\n",
            "Installing collected packages: textblob-fr\n",
            "Successfully installed textblob-fr-0.2.0\n"
          ]
        }
      ]
    },
    {
      "cell_type": "code",
      "source": [
        "#Using Textblob sentiment analysis\n",
        "from textblob_fr import PatternTagger, PatternAnalyzer\n",
        "from textblob import TextBlob"
      ],
      "metadata": {
        "id": "ra_QXqOZ99vt"
      },
      "execution_count": 86,
      "outputs": []
    },
    {
      "cell_type": "code",
      "source": [
        "text = \"Quelle belle matinée\"\n",
        "blob = TextBlob(text, pos_tagger=PatternTagger(), analyzer=PatternAnalyzer())"
      ],
      "metadata": {
        "id": "GKgfV6Lr_ANd"
      },
      "execution_count": 87,
      "outputs": []
    },
    {
      "cell_type": "code",
      "source": [
        "blob.sentiment"
      ],
      "metadata": {
        "colab": {
          "base_uri": "https://localhost:8080/"
        },
        "id": "X_7Jgol5_NKH",
        "outputId": "9d9c58c1-1cdd-4ee9-b4d1-867c3218fdf9"
      },
      "execution_count": 90,
      "outputs": [
        {
          "output_type": "execute_result",
          "data": {
            "text/plain": [
              "(0.8, 0.8)"
            ]
          },
          "metadata": {},
          "execution_count": 90
        }
      ]
    },
    {
      "cell_type": "code",
      "source": [
        "def sentiment_analysis(rating_tb):\n",
        " def getSubjectivity(text):\n",
        "   return TextBlob(text).sentiment.subjectivity\n",
        "  \n",
        " #Create a function to get the polarity\n",
        " def getPolarity(text):\n",
        "   return TextBlob(text).sentiment.polarity\n",
        "  \n",
        " #Create two new columns ‘Subjectivity’ & ‘Polarity’\n",
        " rating_tb['TextBlob_Subjectivity'] = rating_tb['cleanText'].apply(getSubjectivity)\n",
        " rating_tb['TextBlob_Polarity'] = rating_tb['cleanText'].apply(getPolarity)\n",
        " def getAnalysis(score):\n",
        "  if score < 0:\n",
        "    return 'Negative'\n",
        "  elif score == 0:\n",
        "    return 'Neutral'\n",
        "  else:\n",
        "    return 'Positive'\n",
        " rating_tb['TextBlob_Analysis'] = rating_tb['TextBlob_Polarity'].apply(getAnalysis)\n",
        " return rating_tb"
      ],
      "metadata": {
        "id": "Hp9mn6tr-f13"
      },
      "execution_count": 91,
      "outputs": []
    },
    {
      "cell_type": "code",
      "source": [
        "sentiment_analysis(dfe)"
      ],
      "metadata": {
        "colab": {
          "base_uri": "https://localhost:8080/",
          "height": 641
        },
        "id": "pR_RJxJv-t0s",
        "outputId": "ea3b3fce-c3f3-4a49-d01f-a11150f0f9e2"
      },
      "execution_count": 92,
      "outputs": [
        {
          "output_type": "execute_result",
          "data": {
            "text/plain": [
              "                                       book_title                 author  \\\n",
              "0                Le Démon de la Colline aux Loups  Dimitri Rouchon-Borie   \n",
              "1                                          Simple      Marie-Aude Murail   \n",
              "2              La plus secrète mémoire des hommes   Mohamed Mbougar Sarr   \n",
              "3                                        Trancher      Amélie Cordonnier   \n",
              "4                        La guerre d'Alan, tome 2       Emmanuel Guibert   \n",
              "...                                           ...                    ...   \n",
              "9653                      Un grand méchant loup !    Geoffroy de Pennart   \n",
              "9654  Travailler: La grande affaire de l'humanité           James Suzman   \n",
              "9655                                 Leur domaine               Jo Nesbø   \n",
              "9656                             Ivan le terrible              Anne Fine   \n",
              "9657              Les arbres aussi font la guerre         Francis Martin   \n",
              "\n",
              "                                          reader_review  rating  label  \\\n",
              "0     Ce n'est pas le premier roman à aborder les th...     5.0      1   \n",
              "1     Simple, alias Barnabé, est un jeune homme de 2...     4.0      1   \n",
              "2     Pour écrire La plus secrète mémoire des hommes...     4.0      1   \n",
              "3     « La violence d'Aurélien est revenue. Par la f...     3.5      0   \n",
              "4     Dans ce second album de La Guerre d’Alan, Emma...     5.0      1   \n",
              "...                                                 ...     ...    ...   \n",
              "9653  Geoffroy de Pennart est un auteur-illustrateur...     4.0      1   \n",
              "9654  Seule l’énergie permet au vivant de résister à...     4.0      1   \n",
              "9655  Sauf que ce n’est pas publié par Gallmeister… ...     4.0      1   \n",
              "9656  Un jeune Russe arrive dans l’école du narrateu...     4.0      1   \n",
              "9657  Difficile d’imaginer les agressions subies par...     4.5      1   \n",
              "\n",
              "                                              cleanText  compound    neg  \\\n",
              "0     ce n est pas le premier roman aborder les th m...   -0.0516  0.187   \n",
              "1     simple alias barnab est un jeune homme de ans ...   -0.9430  0.241   \n",
              "2     pour crire la plus secr te m moire des hommes ...    0.0772  0.106   \n",
              "3      la violence d aur lien est revenue par la fen...   -0.8824  0.258   \n",
              "4     dans ce second album de la guerre d alan emman...   -0.6249  0.203   \n",
              "...                                                 ...       ...    ...   \n",
              "9653  geoffroy de pennart est un auteur illustrateur...    0.0000  0.000   \n",
              "9654  seule l nergie permet au vivant de r sister l ...   -0.8809  0.206   \n",
              "9655  sauf que ce n est pas publi par gallmeister et...    0.0000  0.000   \n",
              "9656  un jeune russe arrive dans l cole du narrateur...   -0.0258  0.093   \n",
              "9657  difficile d imaginer les agressions subies par...   -0.4019  0.155   \n",
              "\n",
              "        neu    pos  TextBlob_Subjectivity  TextBlob_Polarity TextBlob_Analysis  \n",
              "0     0.663  0.150               0.000000           0.000000           Neutral  \n",
              "1     0.741  0.018               0.304762          -0.033333          Negative  \n",
              "2     0.753  0.140               0.000000           0.000000           Neutral  \n",
              "3     0.580  0.162               0.333333           0.166667          Positive  \n",
              "4     0.797  0.000               0.000000           0.000000           Neutral  \n",
              "...     ...    ...                    ...                ...               ...  \n",
              "9653  1.000  0.000               0.400000           0.000000           Neutral  \n",
              "9654  0.681  0.113               1.000000           0.500000          Positive  \n",
              "9655  1.000  0.000               0.000000           0.000000           Neutral  \n",
              "9656  0.817  0.090               0.000000           0.000000           Neutral  \n",
              "9657  0.739  0.106               0.400000          -0.050000          Negative  \n",
              "\n",
              "[9658 rows x 13 columns]"
            ],
            "text/html": [
              "\n",
              "  <div id=\"df-a4d34f98-d302-4037-af6c-15733b823c02\">\n",
              "    <div class=\"colab-df-container\">\n",
              "      <div>\n",
              "<style scoped>\n",
              "    .dataframe tbody tr th:only-of-type {\n",
              "        vertical-align: middle;\n",
              "    }\n",
              "\n",
              "    .dataframe tbody tr th {\n",
              "        vertical-align: top;\n",
              "    }\n",
              "\n",
              "    .dataframe thead th {\n",
              "        text-align: right;\n",
              "    }\n",
              "</style>\n",
              "<table border=\"1\" class=\"dataframe\">\n",
              "  <thead>\n",
              "    <tr style=\"text-align: right;\">\n",
              "      <th></th>\n",
              "      <th>book_title</th>\n",
              "      <th>author</th>\n",
              "      <th>reader_review</th>\n",
              "      <th>rating</th>\n",
              "      <th>label</th>\n",
              "      <th>cleanText</th>\n",
              "      <th>compound</th>\n",
              "      <th>neg</th>\n",
              "      <th>neu</th>\n",
              "      <th>pos</th>\n",
              "      <th>TextBlob_Subjectivity</th>\n",
              "      <th>TextBlob_Polarity</th>\n",
              "      <th>TextBlob_Analysis</th>\n",
              "    </tr>\n",
              "  </thead>\n",
              "  <tbody>\n",
              "    <tr>\n",
              "      <th>0</th>\n",
              "      <td>Le Démon de la Colline aux Loups</td>\n",
              "      <td>Dimitri Rouchon-Borie</td>\n",
              "      <td>Ce n'est pas le premier roman à aborder les th...</td>\n",
              "      <td>5.0</td>\n",
              "      <td>1</td>\n",
              "      <td>ce n est pas le premier roman aborder les th m...</td>\n",
              "      <td>-0.0516</td>\n",
              "      <td>0.187</td>\n",
              "      <td>0.663</td>\n",
              "      <td>0.150</td>\n",
              "      <td>0.000000</td>\n",
              "      <td>0.000000</td>\n",
              "      <td>Neutral</td>\n",
              "    </tr>\n",
              "    <tr>\n",
              "      <th>1</th>\n",
              "      <td>Simple</td>\n",
              "      <td>Marie-Aude Murail</td>\n",
              "      <td>Simple, alias Barnabé, est un jeune homme de 2...</td>\n",
              "      <td>4.0</td>\n",
              "      <td>1</td>\n",
              "      <td>simple alias barnab est un jeune homme de ans ...</td>\n",
              "      <td>-0.9430</td>\n",
              "      <td>0.241</td>\n",
              "      <td>0.741</td>\n",
              "      <td>0.018</td>\n",
              "      <td>0.304762</td>\n",
              "      <td>-0.033333</td>\n",
              "      <td>Negative</td>\n",
              "    </tr>\n",
              "    <tr>\n",
              "      <th>2</th>\n",
              "      <td>La plus secrète mémoire des hommes</td>\n",
              "      <td>Mohamed Mbougar Sarr</td>\n",
              "      <td>Pour écrire La plus secrète mémoire des hommes...</td>\n",
              "      <td>4.0</td>\n",
              "      <td>1</td>\n",
              "      <td>pour crire la plus secr te m moire des hommes ...</td>\n",
              "      <td>0.0772</td>\n",
              "      <td>0.106</td>\n",
              "      <td>0.753</td>\n",
              "      <td>0.140</td>\n",
              "      <td>0.000000</td>\n",
              "      <td>0.000000</td>\n",
              "      <td>Neutral</td>\n",
              "    </tr>\n",
              "    <tr>\n",
              "      <th>3</th>\n",
              "      <td>Trancher</td>\n",
              "      <td>Amélie Cordonnier</td>\n",
              "      <td>« La violence d'Aurélien est revenue. Par la f...</td>\n",
              "      <td>3.5</td>\n",
              "      <td>0</td>\n",
              "      <td>la violence d aur lien est revenue par la fen...</td>\n",
              "      <td>-0.8824</td>\n",
              "      <td>0.258</td>\n",
              "      <td>0.580</td>\n",
              "      <td>0.162</td>\n",
              "      <td>0.333333</td>\n",
              "      <td>0.166667</td>\n",
              "      <td>Positive</td>\n",
              "    </tr>\n",
              "    <tr>\n",
              "      <th>4</th>\n",
              "      <td>La guerre d'Alan, tome 2</td>\n",
              "      <td>Emmanuel Guibert</td>\n",
              "      <td>Dans ce second album de La Guerre d’Alan, Emma...</td>\n",
              "      <td>5.0</td>\n",
              "      <td>1</td>\n",
              "      <td>dans ce second album de la guerre d alan emman...</td>\n",
              "      <td>-0.6249</td>\n",
              "      <td>0.203</td>\n",
              "      <td>0.797</td>\n",
              "      <td>0.000</td>\n",
              "      <td>0.000000</td>\n",
              "      <td>0.000000</td>\n",
              "      <td>Neutral</td>\n",
              "    </tr>\n",
              "    <tr>\n",
              "      <th>...</th>\n",
              "      <td>...</td>\n",
              "      <td>...</td>\n",
              "      <td>...</td>\n",
              "      <td>...</td>\n",
              "      <td>...</td>\n",
              "      <td>...</td>\n",
              "      <td>...</td>\n",
              "      <td>...</td>\n",
              "      <td>...</td>\n",
              "      <td>...</td>\n",
              "      <td>...</td>\n",
              "      <td>...</td>\n",
              "      <td>...</td>\n",
              "    </tr>\n",
              "    <tr>\n",
              "      <th>9653</th>\n",
              "      <td>Un grand méchant loup !</td>\n",
              "      <td>Geoffroy de Pennart</td>\n",
              "      <td>Geoffroy de Pennart est un auteur-illustrateur...</td>\n",
              "      <td>4.0</td>\n",
              "      <td>1</td>\n",
              "      <td>geoffroy de pennart est un auteur illustrateur...</td>\n",
              "      <td>0.0000</td>\n",
              "      <td>0.000</td>\n",
              "      <td>1.000</td>\n",
              "      <td>0.000</td>\n",
              "      <td>0.400000</td>\n",
              "      <td>0.000000</td>\n",
              "      <td>Neutral</td>\n",
              "    </tr>\n",
              "    <tr>\n",
              "      <th>9654</th>\n",
              "      <td>Travailler: La grande affaire de l'humanité</td>\n",
              "      <td>James Suzman</td>\n",
              "      <td>Seule l’énergie permet au vivant de résister à...</td>\n",
              "      <td>4.0</td>\n",
              "      <td>1</td>\n",
              "      <td>seule l nergie permet au vivant de r sister l ...</td>\n",
              "      <td>-0.8809</td>\n",
              "      <td>0.206</td>\n",
              "      <td>0.681</td>\n",
              "      <td>0.113</td>\n",
              "      <td>1.000000</td>\n",
              "      <td>0.500000</td>\n",
              "      <td>Positive</td>\n",
              "    </tr>\n",
              "    <tr>\n",
              "      <th>9655</th>\n",
              "      <td>Leur domaine</td>\n",
              "      <td>Jo Nesbø</td>\n",
              "      <td>Sauf que ce n’est pas publié par Gallmeister… ...</td>\n",
              "      <td>4.0</td>\n",
              "      <td>1</td>\n",
              "      <td>sauf que ce n est pas publi par gallmeister et...</td>\n",
              "      <td>0.0000</td>\n",
              "      <td>0.000</td>\n",
              "      <td>1.000</td>\n",
              "      <td>0.000</td>\n",
              "      <td>0.000000</td>\n",
              "      <td>0.000000</td>\n",
              "      <td>Neutral</td>\n",
              "    </tr>\n",
              "    <tr>\n",
              "      <th>9656</th>\n",
              "      <td>Ivan le terrible</td>\n",
              "      <td>Anne Fine</td>\n",
              "      <td>Un jeune Russe arrive dans l’école du narrateu...</td>\n",
              "      <td>4.0</td>\n",
              "      <td>1</td>\n",
              "      <td>un jeune russe arrive dans l cole du narrateur...</td>\n",
              "      <td>-0.0258</td>\n",
              "      <td>0.093</td>\n",
              "      <td>0.817</td>\n",
              "      <td>0.090</td>\n",
              "      <td>0.000000</td>\n",
              "      <td>0.000000</td>\n",
              "      <td>Neutral</td>\n",
              "    </tr>\n",
              "    <tr>\n",
              "      <th>9657</th>\n",
              "      <td>Les arbres aussi font la guerre</td>\n",
              "      <td>Francis Martin</td>\n",
              "      <td>Difficile d’imaginer les agressions subies par...</td>\n",
              "      <td>4.5</td>\n",
              "      <td>1</td>\n",
              "      <td>difficile d imaginer les agressions subies par...</td>\n",
              "      <td>-0.4019</td>\n",
              "      <td>0.155</td>\n",
              "      <td>0.739</td>\n",
              "      <td>0.106</td>\n",
              "      <td>0.400000</td>\n",
              "      <td>-0.050000</td>\n",
              "      <td>Negative</td>\n",
              "    </tr>\n",
              "  </tbody>\n",
              "</table>\n",
              "<p>9658 rows × 13 columns</p>\n",
              "</div>\n",
              "      <button class=\"colab-df-convert\" onclick=\"convertToInteractive('df-a4d34f98-d302-4037-af6c-15733b823c02')\"\n",
              "              title=\"Convert this dataframe to an interactive table.\"\n",
              "              style=\"display:none;\">\n",
              "        \n",
              "  <svg xmlns=\"http://www.w3.org/2000/svg\" height=\"24px\"viewBox=\"0 0 24 24\"\n",
              "       width=\"24px\">\n",
              "    <path d=\"M0 0h24v24H0V0z\" fill=\"none\"/>\n",
              "    <path d=\"M18.56 5.44l.94 2.06.94-2.06 2.06-.94-2.06-.94-.94-2.06-.94 2.06-2.06.94zm-11 1L8.5 8.5l.94-2.06 2.06-.94-2.06-.94L8.5 2.5l-.94 2.06-2.06.94zm10 10l.94 2.06.94-2.06 2.06-.94-2.06-.94-.94-2.06-.94 2.06-2.06.94z\"/><path d=\"M17.41 7.96l-1.37-1.37c-.4-.4-.92-.59-1.43-.59-.52 0-1.04.2-1.43.59L10.3 9.45l-7.72 7.72c-.78.78-.78 2.05 0 2.83L4 21.41c.39.39.9.59 1.41.59.51 0 1.02-.2 1.41-.59l7.78-7.78 2.81-2.81c.8-.78.8-2.07 0-2.86zM5.41 20L4 18.59l7.72-7.72 1.47 1.35L5.41 20z\"/>\n",
              "  </svg>\n",
              "      </button>\n",
              "      \n",
              "  <style>\n",
              "    .colab-df-container {\n",
              "      display:flex;\n",
              "      flex-wrap:wrap;\n",
              "      gap: 12px;\n",
              "    }\n",
              "\n",
              "    .colab-df-convert {\n",
              "      background-color: #E8F0FE;\n",
              "      border: none;\n",
              "      border-radius: 50%;\n",
              "      cursor: pointer;\n",
              "      display: none;\n",
              "      fill: #1967D2;\n",
              "      height: 32px;\n",
              "      padding: 0 0 0 0;\n",
              "      width: 32px;\n",
              "    }\n",
              "\n",
              "    .colab-df-convert:hover {\n",
              "      background-color: #E2EBFA;\n",
              "      box-shadow: 0px 1px 2px rgba(60, 64, 67, 0.3), 0px 1px 3px 1px rgba(60, 64, 67, 0.15);\n",
              "      fill: #174EA6;\n",
              "    }\n",
              "\n",
              "    [theme=dark] .colab-df-convert {\n",
              "      background-color: #3B4455;\n",
              "      fill: #D2E3FC;\n",
              "    }\n",
              "\n",
              "    [theme=dark] .colab-df-convert:hover {\n",
              "      background-color: #434B5C;\n",
              "      box-shadow: 0px 1px 3px 1px rgba(0, 0, 0, 0.15);\n",
              "      filter: drop-shadow(0px 1px 2px rgba(0, 0, 0, 0.3));\n",
              "      fill: #FFFFFF;\n",
              "    }\n",
              "  </style>\n",
              "\n",
              "      <script>\n",
              "        const buttonEl =\n",
              "          document.querySelector('#df-a4d34f98-d302-4037-af6c-15733b823c02 button.colab-df-convert');\n",
              "        buttonEl.style.display =\n",
              "          google.colab.kernel.accessAllowed ? 'block' : 'none';\n",
              "\n",
              "        async function convertToInteractive(key) {\n",
              "          const element = document.querySelector('#df-a4d34f98-d302-4037-af6c-15733b823c02');\n",
              "          const dataTable =\n",
              "            await google.colab.kernel.invokeFunction('convertToInteractive',\n",
              "                                                     [key], {});\n",
              "          if (!dataTable) return;\n",
              "\n",
              "          const docLinkHtml = 'Like what you see? Visit the ' +\n",
              "            '<a target=\"_blank\" href=https://colab.research.google.com/notebooks/data_table.ipynb>data table notebook</a>'\n",
              "            + ' to learn more about interactive tables.';\n",
              "          element.innerHTML = '';\n",
              "          dataTable['output_type'] = 'display_data';\n",
              "          await google.colab.output.renderOutput(dataTable, element);\n",
              "          const docLink = document.createElement('div');\n",
              "          docLink.innerHTML = docLinkHtml;\n",
              "          element.appendChild(docLink);\n",
              "        }\n",
              "      </script>\n",
              "    </div>\n",
              "  </div>\n",
              "  "
            ]
          },
          "metadata": {},
          "execution_count": 92
        }
      ]
    },
    {
      "cell_type": "code",
      "source": [
        "# Plot for TextBlob sentiment analysis model\n",
        "import seaborn as sns\n",
        "sns.countplot(dfe['TextBlob_Analysis'], palette=\"plasma\")\n",
        "fig = plt.gcf()\n",
        "fig.set_size_inches(10,10)\n",
        "plt.title('Positive vs Negative vs Neutral Label count')"
      ],
      "metadata": {
        "colab": {
          "base_uri": "https://localhost:8080/",
          "height": 697
        },
        "id": "CVAPk5IQ_mnn",
        "outputId": "ea5aff1e-8752-4a0a-a677-5107ac8214a5"
      },
      "execution_count": 94,
      "outputs": [
        {
          "output_type": "stream",
          "name": "stderr",
          "text": [
            "/usr/local/lib/python3.8/dist-packages/seaborn/_decorators.py:36: FutureWarning: Pass the following variable as a keyword arg: x. From version 0.12, the only valid positional argument will be `data`, and passing other arguments without an explicit keyword will result in an error or misinterpretation.\n",
            "  warnings.warn(\n"
          ]
        },
        {
          "output_type": "execute_result",
          "data": {
            "text/plain": [
              "Text(0.5, 1.0, 'Positive vs Negative vs Neutral Label count')"
            ]
          },
          "metadata": {},
          "execution_count": 94
        },
        {
          "output_type": "display_data",
          "data": {
            "text/plain": [
              "<Figure size 720x720 with 1 Axes>"
            ],
            "image/png": "[encoded data removed]"
          },
          "metadata": {
            "needs_background": "light"
          }
        }
      ]
    },
    {
      "cell_type": "markdown",
      "source": [
        "We can see the neutral ratings are the highest which is contradicting to the real scenario of the ratings."
      ],
      "metadata": {
        "id": "kOG0zrM2EB0P"
      }
    }
  ],
  "metadata": {
    "colab": {
      "provenance": []
    },
    "kernelspec": {
      "display_name": "Python 3",
      "name": "python3"
    },
    "language_info": {
      "name": "python"
    }
  },
  "nbformat": 4,
  "nbformat_minor": 0
}